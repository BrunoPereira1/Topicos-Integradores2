{
  "nbformat": 4,
  "nbformat_minor": 0,
  "metadata": {
    "colab": {
      "name": "Projeto Análise.ipynb",
      "provenance": [],
      "toc_visible": true,
      "include_colab_link": true
    },
    "kernelspec": {
      "name": "python3",
      "display_name": "Python 3"
    }
  },
  "cells": [
    {
      "cell_type": "markdown",
      "metadata": {
        "id": "view-in-github",
        "colab_type": "text"
      },
      "source": [
        "<a href=\"https://colab.research.google.com/github/BrunoPereira1/Topicos-Integradores2/blob/master/Projeto_An%C3%A1lise.ipynb\" target=\"_parent\"><img src=\"https://colab.research.google.com/assets/colab-badge.svg\" alt=\"Open In Colab\"/></a>"
      ]
    },
    {
      "cell_type": "markdown",
      "metadata": {
        "id": "W4dlAjTUmgVo",
        "colab_type": "text"
      },
      "source": [
        "**Alunos: Bruno Pereira, Caio Romulo e Fernando Bivar**"
      ]
    },
    {
      "cell_type": "code",
      "metadata": {
        "id": "moQlzXECY7Qb",
        "colab_type": "code",
        "colab": {}
      },
      "source": [
        "import pandas as pd"
      ],
      "execution_count": 0,
      "outputs": []
    },
    {
      "cell_type": "code",
      "metadata": {
        "id": "MaJVxQYmZeWW",
        "colab_type": "code",
        "colab": {}
      },
      "source": [
        "df = pd.read_csv(\"relatorio-de-multas-implantadas-em-2014.csv\", sep=\";\")"
      ],
      "execution_count": 0,
      "outputs": []
    },
    {
      "cell_type": "code",
      "metadata": {
        "id": "N0LPjWygtg1n",
        "colab_type": "code",
        "colab": {}
      },
      "source": [
        "df.head()"
      ],
      "execution_count": 0,
      "outputs": []
    },
    {
      "cell_type": "markdown",
      "metadata": {
        "id": "TJHpKVfZiaoN",
        "colab_type": "text"
      },
      "source": [
        "## **ANÁLISE 1**"
      ]
    },
    {
      "cell_type": "markdown",
      "metadata": {
        "id": "f-JqVNVmilZL",
        "colab_type": "text"
      },
      "source": [
        "**As 10 infrações que mais ocorreram no ano de 2014.**"
      ]
    },
    {
      "cell_type": "markdown",
      "metadata": {
        "id": "C_mibbXtO_jK",
        "colab_type": "text"
      },
      "source": [
        "`Tabela`"
      ]
    },
    {
      "cell_type": "code",
      "metadata": {
        "id": "6qTuID9FekmJ",
        "colab_type": "code",
        "colab": {}
      },
      "source": [
        "data = pd.DataFrame(df.infracao.value_counts()[0:10])"
      ],
      "execution_count": 0,
      "outputs": []
    },
    {
      "cell_type": "code",
      "metadata": {
        "id": "EOSQgj2ki8TH",
        "colab_type": "code",
        "colab": {
          "base_uri": "https://localhost:8080/",
          "height": 363
        },
        "outputId": "a657a7f9-fc47-4eb0-c884-6d998cc0e911"
      },
      "source": [
        "data"
      ],
      "execution_count": 156,
      "outputs": [
        {
          "output_type": "execute_result",
          "data": {
            "text/html": [
              "<div>\n",
              "<style scoped>\n",
              "    .dataframe tbody tr th:only-of-type {\n",
              "        vertical-align: middle;\n",
              "    }\n",
              "\n",
              "    .dataframe tbody tr th {\n",
              "        vertical-align: top;\n",
              "    }\n",
              "\n",
              "    .dataframe thead th {\n",
              "        text-align: right;\n",
              "    }\n",
              "</style>\n",
              "<table border=\"1\" class=\"dataframe\">\n",
              "  <thead>\n",
              "    <tr style=\"text-align: right;\">\n",
              "      <th></th>\n",
              "      <th>infracao</th>\n",
              "    </tr>\n",
              "  </thead>\n",
              "  <tbody>\n",
              "    <tr>\n",
              "      <th>7455</th>\n",
              "      <td>150077</td>\n",
              "    </tr>\n",
              "    <tr>\n",
              "      <th>5550</th>\n",
              "      <td>56600</td>\n",
              "    </tr>\n",
              "    <tr>\n",
              "      <th>5541</th>\n",
              "      <td>33894</td>\n",
              "    </tr>\n",
              "    <tr>\n",
              "      <th>7463</th>\n",
              "      <td>32716</td>\n",
              "    </tr>\n",
              "    <tr>\n",
              "      <th>5452</th>\n",
              "      <td>29154</td>\n",
              "    </tr>\n",
              "    <tr>\n",
              "      <th>7366</th>\n",
              "      <td>21263</td>\n",
              "    </tr>\n",
              "    <tr>\n",
              "      <th>6050</th>\n",
              "      <td>19841</td>\n",
              "    </tr>\n",
              "    <tr>\n",
              "      <th>6041</th>\n",
              "      <td>10712</td>\n",
              "    </tr>\n",
              "    <tr>\n",
              "      <th>5185</th>\n",
              "      <td>5753</td>\n",
              "    </tr>\n",
              "    <tr>\n",
              "      <th>5819</th>\n",
              "      <td>3915</td>\n",
              "    </tr>\n",
              "  </tbody>\n",
              "</table>\n",
              "</div>"
            ],
            "text/plain": [
              "      infracao\n",
              "7455    150077\n",
              "5550     56600\n",
              "5541     33894\n",
              "7463     32716\n",
              "5452     29154\n",
              "7366     21263\n",
              "6050     19841\n",
              "6041     10712\n",
              "5185      5753\n",
              "5819      3915"
            ]
          },
          "metadata": {
            "tags": []
          },
          "execution_count": 156
        }
      ]
    },
    {
      "cell_type": "markdown",
      "metadata": {
        "id": "K1Z6ElOmPCmt",
        "colab_type": "text"
      },
      "source": [
        "`Gráfico em Barra`"
      ]
    },
    {
      "cell_type": "code",
      "metadata": {
        "id": "n82rN1LeOzxY",
        "colab_type": "code",
        "colab": {
          "base_uri": "https://localhost:8080/",
          "height": 299
        },
        "outputId": "43c6f3b4-89be-4ae4-cd05-eb96f181f203"
      },
      "source": [
        "data.plot.bar(title=\"10 infrações que mais ocorreram em 2014\",color='black',rot=0)"
      ],
      "execution_count": 157,
      "outputs": [
        {
          "output_type": "execute_result",
          "data": {
            "text/plain": [
              "<matplotlib.axes._subplots.AxesSubplot at 0x7f511ef9ce80>"
            ]
          },
          "metadata": {
            "tags": []
          },
          "execution_count": 157
        },
        {
          "output_type": "display_data",
          "data": {
            "image/png": "[encoded data removed]",
            "text/plain": [
              "<Figure size 432x288 with 1 Axes>"
            ]
          },
          "metadata": {
            "tags": []
          }
        }
      ]
    },
    {
      "cell_type": "markdown",
      "metadata": {
        "id": "JGCJmpTsi2sv",
        "colab_type": "text"
      },
      "source": [
        "## **ANÁLISE 2**"
      ]
    },
    {
      "cell_type": "markdown",
      "metadata": {
        "id": "-j4tmDcttNUZ",
        "colab_type": "text"
      },
      "source": [
        "**Os meses que mais tiveram infrações no ano de 2014.**"
      ]
    },
    {
      "cell_type": "markdown",
      "metadata": {
        "id": "--AJ_bslxTM2",
        "colab_type": "text"
      },
      "source": [
        "`Tabela`"
      ]
    },
    {
      "cell_type": "code",
      "metadata": {
        "id": "5EBzKGgToxJg",
        "colab_type": "code",
        "colab": {}
      },
      "source": [
        "df.datainfracao = pd.to_datetime(df.datainfracao)"
      ],
      "execution_count": 0,
      "outputs": []
    },
    {
      "cell_type": "code",
      "metadata": {
        "id": "Hi-Vjiq-xNDa",
        "colab_type": "code",
        "colab": {
          "base_uri": "https://localhost:8080/",
          "height": 256
        },
        "outputId": "4f25c331-1b33-4c20-9fd3-226540a97c12"
      },
      "source": [
        "df.datainfracao.dt.month_name().value_counts()"
      ],
      "execution_count": 159,
      "outputs": [
        {
          "output_type": "execute_result",
          "data": {
            "text/plain": [
              "September    49658\n",
              "October      46445\n",
              "August       40200\n",
              "January      36477\n",
              "November     36326\n",
              "February     34521\n",
              "July         33851\n",
              "March        32471\n",
              "April        31759\n",
              "May          28006\n",
              "June         24654\n",
              "December     23837\n",
              "Name: datainfracao, dtype: int64"
            ]
          },
          "metadata": {
            "tags": []
          },
          "execution_count": 159
        }
      ]
    },
    {
      "cell_type": "markdown",
      "metadata": {
        "id": "HOejMi6jxWCI",
        "colab_type": "text"
      },
      "source": [
        "`Gráfico em Barra`"
      ]
    },
    {
      "cell_type": "code",
      "metadata": {
        "id": "VMLq15lTrQ-y",
        "colab_type": "code",
        "colab": {
          "base_uri": "https://localhost:8080/",
          "height": 299
        },
        "outputId": "249f3848-4c77-45db-f6d2-93b0afc1e729"
      },
      "source": [
        "df.datainfracao.dt.month_name().value_counts().plot.barh(title=\"Meses que mais houveram infrações em 2014\",color='red')"
      ],
      "execution_count": 160,
      "outputs": [
        {
          "output_type": "execute_result",
          "data": {
            "text/plain": [
              "<matplotlib.axes._subplots.AxesSubplot at 0x7f511ee88710>"
            ]
          },
          "metadata": {
            "tags": []
          },
          "execution_count": 160
        },
        {
          "output_type": "display_data",
          "data": {
            "image/png": "[encoded data removed]",
            "text/plain": [
              "<Figure size 432x288 with 1 Axes>"
            ]
          },
          "metadata": {
            "tags": []
          }
        }
      ]
    },
    {
      "cell_type": "markdown",
      "metadata": {
        "id": "mXWiD04BtXT3",
        "colab_type": "text"
      },
      "source": [
        "## **ANÁLISE 3**"
      ]
    },
    {
      "cell_type": "markdown",
      "metadata": {
        "id": "TaDed4uAuCvX",
        "colab_type": "text"
      },
      "source": [
        "**Os 3 locais que mais ocorreram infrações no ano de 2014.**\n",
        "\n"
      ]
    },
    {
      "cell_type": "markdown",
      "metadata": {
        "id": "q0I4745YyyWC",
        "colab_type": "text"
      },
      "source": [
        "`Tabela`"
      ]
    },
    {
      "cell_type": "code",
      "metadata": {
        "id": "EiVFAXG4tWdR",
        "colab_type": "code",
        "colab": {
          "base_uri": "https://localhost:8080/",
          "height": 90
        },
        "outputId": "a4d10136-3a92-416b-9bed-d75ce1c00303"
      },
      "source": [
        "df.localcometimento.value_counts()[0:3]"
      ],
      "execution_count": 161,
      "outputs": [
        {
          "output_type": "execute_result",
          "data": {
            "text/plain": [
              "AV. ENG. JOSE ESTELITA - ENTRE OS PTES. DE ILUM. 19-R E 21-R-S. CENTRO         21010\n",
              "R. ARQUITETO LUIZ  NUNES, B. IMBIRIBEIRA ENTRE  N. 314 E 375 , SENT. IPSEP-    17848\n",
              "AV. ENG. ANTONIO DE GOES, N. 200-SENTIDO  CENTRO                               14361\n",
              "Name: localcometimento, dtype: int64"
            ]
          },
          "metadata": {
            "tags": []
          },
          "execution_count": 161
        }
      ]
    },
    {
      "cell_type": "markdown",
      "metadata": {
        "id": "MPlwOKQ1y1J6",
        "colab_type": "text"
      },
      "source": [
        "`Gráfico em Pizza`"
      ]
    },
    {
      "cell_type": "code",
      "metadata": {
        "id": "iRVql64iypkA",
        "colab_type": "code",
        "colab": {
          "base_uri": "https://localhost:8080/",
          "height": 282
        },
        "outputId": "7377aa5f-344f-4be1-bfd7-d395dd0db91a"
      },
      "source": [
        "df.localcometimento.value_counts()[0:3].plot.pie(title=\"3 locais que mais houveram infrações em 2014\")"
      ],
      "execution_count": 162,
      "outputs": [
        {
          "output_type": "execute_result",
          "data": {
            "text/plain": [
              "<matplotlib.axes._subplots.AxesSubplot at 0x7f511f014a20>"
            ]
          },
          "metadata": {
            "tags": []
          },
          "execution_count": 162
        },
        {
          "output_type": "display_data",
          "data": {
            "image/png": "[encoded data removed]",
            "text/plain": [
              "<Figure size 432x288 with 1 Axes>"
            ]
          },
          "metadata": {
            "tags": []
          }
        }
      ]
    },
    {
      "cell_type": "markdown",
      "metadata": {
        "id": "_E6a-T9XuJPR",
        "colab_type": "text"
      },
      "source": [
        "## **ANÁLISE 4**"
      ]
    },
    {
      "cell_type": "markdown",
      "metadata": {
        "id": "MVh8yK13zeY9",
        "colab_type": "text"
      },
      "source": [
        "**Os 5 horários que mais ocorreram infrações.**"
      ]
    },
    {
      "cell_type": "markdown",
      "metadata": {
        "id": "iXvbUrnQz3ZE",
        "colab_type": "text"
      },
      "source": [
        "`Tabela`"
      ]
    },
    {
      "cell_type": "code",
      "metadata": {
        "id": "hNWhPaPEuINp",
        "colab_type": "code",
        "colab": {
          "base_uri": "https://localhost:8080/",
          "height": 127
        },
        "outputId": "6c56d7ea-46d7-4c8c-e64e-2c8244a73ff5"
      },
      "source": [
        "df.horainfracao.value_counts()[0:5]"
      ],
      "execution_count": 163,
      "outputs": [
        {
          "output_type": "execute_result",
          "data": {
            "text/plain": [
              "15:30:00    315\n",
              "15:20:00    301\n",
              "15:00:00    298\n",
              "10:00:00    261\n",
              "15:40:00    253\n",
              "Name: horainfracao, dtype: int64"
            ]
          },
          "metadata": {
            "tags": []
          },
          "execution_count": 163
        }
      ]
    },
    {
      "cell_type": "markdown",
      "metadata": {
        "id": "Xkh1_Rloz513",
        "colab_type": "text"
      },
      "source": [
        "`Gráfico em Barra`"
      ]
    },
    {
      "cell_type": "code",
      "metadata": {
        "id": "2-UJlKNAuITn",
        "colab_type": "code",
        "colab": {
          "base_uri": "https://localhost:8080/",
          "height": 299
        },
        "outputId": "b0c2e5e9-beb8-4ac5-b089-a193711bf02f"
      },
      "source": [
        "df.horainfracao.value_counts()[0:5].plot.bar(title=\"Os 5 horários que mais ocorreram infrações\",color='green',rot=0)"
      ],
      "execution_count": 164,
      "outputs": [
        {
          "output_type": "execute_result",
          "data": {
            "text/plain": [
              "<matplotlib.axes._subplots.AxesSubplot at 0x7f511eea16a0>"
            ]
          },
          "metadata": {
            "tags": []
          },
          "execution_count": 164
        },
        {
          "output_type": "display_data",
          "data": {
            "image/png": "[encoded data removed]",
            "text/plain": [
              "<Figure size 432x288 with 1 Axes>"
            ]
          },
          "metadata": {
            "tags": []
          }
        }
      ]
    },
    {
      "cell_type": "markdown",
      "metadata": {
        "id": "dPdjUrU80G0l",
        "colab_type": "text"
      },
      "source": [
        "## **ANÁLISE 5**"
      ]
    },
    {
      "cell_type": "markdown",
      "metadata": {
        "id": "WiY8Zs82pNgw",
        "colab_type": "text"
      },
      "source": [
        "**Infrações cometidas por estacionar em desacordo com as condições do local (Zona Azul)**"
      ]
    },
    {
      "cell_type": "markdown",
      "metadata": {
        "id": "N5ZOkWw2pZFd",
        "colab_type": "text"
      },
      "source": [
        "`Tabela`"
      ]
    },
    {
      "cell_type": "code",
      "metadata": {
        "id": "x75SjNHD5XpO",
        "colab_type": "code",
        "colab": {}
      },
      "source": [
        "data = pd.concat([df.agenteequipamento.value_counts().filter(like=\"7\"),df.agenteequipamento.value_counts().filter(like=\"2\")])"
      ],
      "execution_count": 0,
      "outputs": []
    },
    {
      "cell_type": "code",
      "metadata": {
        "id": "vueyYrJHuIZY",
        "colab_type": "code",
        "colab": {
          "base_uri": "https://localhost:8080/",
          "height": 72
        },
        "outputId": "67b70dc8-7448-40dc-fe34-0a6b9bdc5fe2"
      },
      "source": [
        "data"
      ],
      "execution_count": 166,
      "outputs": [
        {
          "output_type": "execute_result",
          "data": {
            "text/plain": [
              "Código 7 - ZONA AZUL TALÃO ELETRÔNICO    28147\n",
              "Código 2 - ZONA AZUL TALÃO MANUAL         3146\n",
              "Name: agenteequipamento, dtype: int64"
            ]
          },
          "metadata": {
            "tags": []
          },
          "execution_count": 166
        }
      ]
    },
    {
      "cell_type": "markdown",
      "metadata": {
        "id": "4f1KZcYtpa2H",
        "colab_type": "text"
      },
      "source": [
        "`Gráfico em Barra horizontal`"
      ]
    },
    {
      "cell_type": "code",
      "metadata": {
        "id": "nqWOxBFDuIcX",
        "colab_type": "code",
        "colab": {
          "base_uri": "https://localhost:8080/",
          "height": 299
        },
        "outputId": "5fe841a4-5932-45f9-c78e-ee10f68101e7"
      },
      "source": [
        "data.plot.barh(title=\"Infrações cometidas por estacionar em desacordo com as codições do local (Zona Azul)\",color='blue')"
      ],
      "execution_count": 167,
      "outputs": [
        {
          "output_type": "execute_result",
          "data": {
            "text/plain": [
              "<matplotlib.axes._subplots.AxesSubplot at 0x7f511edd67f0>"
            ]
          },
          "metadata": {
            "tags": []
          },
          "execution_count": 167
        },
        {
          "output_type": "display_data",
          "data": {
            "image/png": "[encoded data removed]",
            "text/plain": [
              "<Figure size 432x288 with 1 Axes>"
            ]
          },
          "metadata": {
            "tags": []
          }
        }
      ]
    },
    {
      "cell_type": "markdown",
      "metadata": {
        "id": "n1damx-Qpiol",
        "colab_type": "text"
      },
      "source": [
        "## **ANÁLISE 6**"
      ]
    },
    {
      "cell_type": "markdown",
      "metadata": {
        "id": "WtAu_v3yydEO",
        "colab_type": "text"
      },
      "source": [
        "**Número de infrações cometidas com excesso de velocidade**"
      ]
    },
    {
      "cell_type": "markdown",
      "metadata": {
        "id": "qMgYh8vIy3u9",
        "colab_type": "text"
      },
      "source": [
        "`Tabela`"
      ]
    },
    {
      "cell_type": "code",
      "metadata": {
        "id": "MibT5d4GuIfZ",
        "colab_type": "code",
        "colab": {}
      },
      "source": [
        "data = df.descricaoinfracao.value_counts().filter(like='Transitar em velocidade superior à máxima')"
      ],
      "execution_count": 0,
      "outputs": []
    },
    {
      "cell_type": "code",
      "metadata": {
        "id": "VPeaYnqLrRcN",
        "colab_type": "code",
        "colab": {
          "base_uri": "https://localhost:8080/",
          "height": 90
        },
        "outputId": "56991517-3d93-4f5a-e8e5-52bd23687bbd"
      },
      "source": [
        "data"
      ],
      "execution_count": 169,
      "outputs": [
        {
          "output_type": "execute_result",
          "data": {
            "text/plain": [
              "Transitar em velocidade superior à máxima permitida para o local em até 20% (vinte por cento).                                      150077\n",
              "Transitar em velocidade superior à máxima permitida para o local em mais de 20% (vinte por cento) até 50% (cinqüenta por cento).     32716\n",
              "Transitar em velocidade superior à máxima permitida em mais de 50%.                                                                   3552\n",
              "Name: descricaoinfracao, dtype: int64"
            ]
          },
          "metadata": {
            "tags": []
          },
          "execution_count": 169
        }
      ]
    },
    {
      "cell_type": "markdown",
      "metadata": {
        "id": "CIkRGEX0y9F1",
        "colab_type": "text"
      },
      "source": [
        "`Gráfico em Pizza`"
      ]
    },
    {
      "cell_type": "code",
      "metadata": {
        "id": "gnlyCSlArX1y",
        "colab_type": "code",
        "colab": {
          "base_uri": "https://localhost:8080/",
          "height": 282
        },
        "outputId": "09b9e05c-ae8d-4a13-9642-adae54c8cf52"
      },
      "source": [
        "data.plot.pie(title=\"Número de infrações cometidas com excesso de velocidade\")"
      ],
      "execution_count": 170,
      "outputs": [
        {
          "output_type": "execute_result",
          "data": {
            "text/plain": [
              "<matplotlib.axes._subplots.AxesSubplot at 0x7f511ed224a8>"
            ]
          },
          "metadata": {
            "tags": []
          },
          "execution_count": 170
        },
        {
          "output_type": "display_data",
          "data": {
            "image/png": "[encoded data removed]",
            "text/plain": [
              "<Figure size 432x288 with 1 Axes>"
            ]
          },
          "metadata": {
            "tags": []
          }
        }
      ]
    },
    {
      "cell_type": "markdown",
      "metadata": {
        "id": "fYGCeIJizBK_",
        "colab_type": "text"
      },
      "source": [
        "## **ANÁLISE 7**"
      ]
    },
    {
      "cell_type": "markdown",
      "metadata": {
        "id": "8iRODDrnAkiH",
        "colab_type": "text"
      },
      "source": [
        "**Número de infrações cometidas ao dirigir usando Telefone Celular**"
      ]
    },
    {
      "cell_type": "markdown",
      "metadata": {
        "id": "mhcIft5yAtVJ",
        "colab_type": "text"
      },
      "source": [
        "`Tabela`"
      ]
    },
    {
      "cell_type": "code",
      "metadata": {
        "id": "1_3Y5_n0rXsN",
        "colab_type": "code",
        "colab": {}
      },
      "source": [
        "data = df.descricaoinfracao.value_counts().filter(like='celular')"
      ],
      "execution_count": 0,
      "outputs": []
    },
    {
      "cell_type": "code",
      "metadata": {
        "id": "NXE75cLwrXcq",
        "colab_type": "code",
        "colab": {
          "base_uri": "https://localhost:8080/",
          "height": 54
        },
        "outputId": "c53c3876-ecfe-484b-bdb5-e8f0cb647713"
      },
      "source": [
        "data"
      ],
      "execution_count": 172,
      "outputs": [
        {
          "output_type": "execute_result",
          "data": {
            "text/plain": [
              "Dirigir o veículo utilizando-se de telefone celular.    20506\n",
              "Name: descricaoinfracao, dtype: int64"
            ]
          },
          "metadata": {
            "tags": []
          },
          "execution_count": 172
        }
      ]
    },
    {
      "cell_type": "markdown",
      "metadata": {
        "id": "DpgPkLW3A31F",
        "colab_type": "text"
      },
      "source": [
        "`Gráfico em Barra horizontal`"
      ]
    },
    {
      "cell_type": "code",
      "metadata": {
        "id": "su0Mlz4X4f8M",
        "colab_type": "code",
        "colab": {}
      },
      "source": [
        "x = [len(df)]"
      ],
      "execution_count": 0,
      "outputs": []
    },
    {
      "cell_type": "code",
      "metadata": {
        "id": "lfZ3rCI040bY",
        "colab_type": "code",
        "colab": {}
      },
      "source": [
        "y = pd.DataFrame(data = x)"
      ],
      "execution_count": 0,
      "outputs": []
    },
    {
      "cell_type": "code",
      "metadata": {
        "id": "zX6xap59DpKe",
        "colab_type": "code",
        "colab": {}
      },
      "source": [
        "z = y.rename(index={0:'Total 2014'})"
      ],
      "execution_count": 0,
      "outputs": []
    },
    {
      "cell_type": "code",
      "metadata": {
        "id": "y8KOfEID5k5y",
        "colab_type": "code",
        "colab": {}
      },
      "source": [
        "compare = pd.concat([data,z])"
      ],
      "execution_count": 0,
      "outputs": []
    },
    {
      "cell_type": "code",
      "metadata": {
        "id": "loutJ6C-KBgt",
        "colab_type": "code",
        "colab": {
          "base_uri": "https://localhost:8080/",
          "height": 112
        },
        "outputId": "416f3c91-71fb-45e5-b4f6-373885998e65"
      },
      "source": [
        "compare"
      ],
      "execution_count": 177,
      "outputs": [
        {
          "output_type": "execute_result",
          "data": {
            "text/html": [
              "<div>\n",
              "<style scoped>\n",
              "    .dataframe tbody tr th:only-of-type {\n",
              "        vertical-align: middle;\n",
              "    }\n",
              "\n",
              "    .dataframe tbody tr th {\n",
              "        vertical-align: top;\n",
              "    }\n",
              "\n",
              "    .dataframe thead th {\n",
              "        text-align: right;\n",
              "    }\n",
              "</style>\n",
              "<table border=\"1\" class=\"dataframe\">\n",
              "  <thead>\n",
              "    <tr style=\"text-align: right;\">\n",
              "      <th></th>\n",
              "      <th>0</th>\n",
              "    </tr>\n",
              "  </thead>\n",
              "  <tbody>\n",
              "    <tr>\n",
              "      <th>Dirigir o veículo utilizando-se de telefone celular.</th>\n",
              "      <td>20506</td>\n",
              "    </tr>\n",
              "    <tr>\n",
              "      <th>Total 2014</th>\n",
              "      <td>418205</td>\n",
              "    </tr>\n",
              "  </tbody>\n",
              "</table>\n",
              "</div>"
            ],
            "text/plain": [
              "                                                         0\n",
              "Dirigir o veículo utilizando-se de telefone cel...   20506\n",
              "Total 2014                                          418205"
            ]
          },
          "metadata": {
            "tags": []
          },
          "execution_count": 177
        }
      ]
    },
    {
      "cell_type": "code",
      "metadata": {
        "id": "pcxjP-B_45Tz",
        "colab_type": "code",
        "colab": {
          "base_uri": "https://localhost:8080/",
          "height": 299
        },
        "outputId": "597be97f-73db-413a-a1fe-14e1247a13a8"
      },
      "source": [
        "compare.plot.barh(title=\"Número de infrações cometidas ao dirigir usando Telefone Celular\",color='blue')"
      ],
      "execution_count": 178,
      "outputs": [
        {
          "output_type": "execute_result",
          "data": {
            "text/plain": [
              "<matplotlib.axes._subplots.AxesSubplot at 0x7f511ece5940>"
            ]
          },
          "metadata": {
            "tags": []
          },
          "execution_count": 178
        },
        {
          "output_type": "display_data",
          "data": {
            "image/png": "[encoded data removed]",
            "text/plain": [
              "<Figure size 432x288 with 1 Axes>"
            ]
          },
          "metadata": {
            "tags": []
          }
        }
      ]
    },
    {
      "cell_type": "markdown",
      "metadata": {
        "id": "Z79bMjakA98c",
        "colab_type": "text"
      },
      "source": [
        "## **ANÁLISE 8**"
      ]
    },
    {
      "cell_type": "markdown",
      "metadata": {
        "id": "njQG6SFBsTVI",
        "colab_type": "text"
      },
      "source": [
        "**Os 5 locais que mais ocorreram infrações no dia 01 de Janeiro de 2014**"
      ]
    },
    {
      "cell_type": "markdown",
      "metadata": {
        "id": "0XcXtYocssl3",
        "colab_type": "text"
      },
      "source": [
        "`Tabela`"
      ]
    },
    {
      "cell_type": "code",
      "metadata": {
        "id": "PZuzFV0j5DLG",
        "colab_type": "code",
        "colab": {}
      },
      "source": [
        "dti = df.loc[df['datainfracao'].isin(['2014-01-01'])]"
      ],
      "execution_count": 0,
      "outputs": []
    },
    {
      "cell_type": "code",
      "metadata": {
        "id": "YKDG755ehmp1",
        "colab_type": "code",
        "colab": {
          "base_uri": "https://localhost:8080/",
          "height": 127
        },
        "outputId": "2d4977d3-712e-462a-e838-9f45b88865fe"
      },
      "source": [
        "dti.localcometimento.value_counts()[0:5]"
      ],
      "execution_count": 180,
      "outputs": [
        {
          "output_type": "execute_result",
          "data": {
            "text/plain": [
              "Av. Rui Barbosa, n. 1397-Sentido Av. Gov. Agamenon Magalhães             67\n",
              "AV. CONSELHEIRO AGUIAR, PROXIMO AO N 1350, CONJ. RESID. PERNAMBUCANO-    44\n",
              "AV. ENG. ANTONIO DE GOES, N. 200-SENTIDO  CENTRO                         41\n",
              "AV. RECIFE - N 1644 - SEMF. 617 ; SENTIDO: CEASA                         20\n",
              "AV BOA VIAGEM, LADO OPOSTO  AO N. 4040                                   19\n",
              "Name: localcometimento, dtype: int64"
            ]
          },
          "metadata": {
            "tags": []
          },
          "execution_count": 180
        }
      ]
    },
    {
      "cell_type": "markdown",
      "metadata": {
        "id": "j2yXfrPhsvHj",
        "colab_type": "text"
      },
      "source": [
        "`Gráfico em Pizza`"
      ]
    },
    {
      "cell_type": "code",
      "metadata": {
        "id": "Bs5QyMLnpFOX",
        "colab_type": "code",
        "colab": {
          "base_uri": "https://localhost:8080/",
          "height": 282
        },
        "outputId": "a7733c8d-39c9-46a7-86cc-270f42d63382"
      },
      "source": [
        "dti.localcometimento.value_counts()[0:5].plot.pie(title=\"Os 5 locais que mais ocorreram infrações no dia 01 de Janeiro de 2014\")"
      ],
      "execution_count": 181,
      "outputs": [
        {
          "output_type": "execute_result",
          "data": {
            "text/plain": [
              "<matplotlib.axes._subplots.AxesSubplot at 0x7f511eccb6d8>"
            ]
          },
          "metadata": {
            "tags": []
          },
          "execution_count": 181
        },
        {
          "output_type": "display_data",
          "data": {
            "image/png": "[encoded data removed]",
            "text/plain": [
              "<Figure size 432x288 with 1 Axes>"
            ]
          },
          "metadata": {
            "tags": []
          }
        }
      ]
    },
    {
      "cell_type": "markdown",
      "metadata": {
        "id": "GTIm8WeJuAR8",
        "colab_type": "text"
      },
      "source": [
        "## *INCLUINDO OUTRA DATABASE PARA COMPARAÇÕES TEMPORAIS*"
      ]
    },
    {
      "cell_type": "code",
      "metadata": {
        "id": "BZzJfA1mt_mz",
        "colab_type": "code",
        "colab": {}
      },
      "source": [
        "df1 = pd.read_csv(\"relatorio-de-multas-implantadas-em-2015.csv\", sep=\";\")"
      ],
      "execution_count": 0,
      "outputs": []
    },
    {
      "cell_type": "code",
      "metadata": {
        "id": "OIdvNsJktnUZ",
        "colab_type": "code",
        "colab": {
          "base_uri": "https://localhost:8080/",
          "height": 293
        },
        "outputId": "8f27aa09-3869-49b1-a1c0-747343adfd1c"
      },
      "source": [
        "df1.head()"
      ],
      "execution_count": 236,
      "outputs": [
        {
          "output_type": "execute_result",
          "data": {
            "text/html": [
              "<div>\n",
              "<style scoped>\n",
              "    .dataframe tbody tr th:only-of-type {\n",
              "        vertical-align: middle;\n",
              "    }\n",
              "\n",
              "    .dataframe tbody tr th {\n",
              "        vertical-align: top;\n",
              "    }\n",
              "\n",
              "    .dataframe thead th {\n",
              "        text-align: right;\n",
              "    }\n",
              "</style>\n",
              "<table border=\"1\" class=\"dataframe\">\n",
              "  <thead>\n",
              "    <tr style=\"text-align: right;\">\n",
              "      <th></th>\n",
              "      <th>datainfracao</th>\n",
              "      <th>horainfracao</th>\n",
              "      <th>dataimplantacao</th>\n",
              "      <th>agenteequipamento</th>\n",
              "      <th>infracao</th>\n",
              "      <th>descricaoinfracao</th>\n",
              "      <th>amparolegal</th>\n",
              "      <th>localcometimento</th>\n",
              "    </tr>\n",
              "  </thead>\n",
              "  <tbody>\n",
              "    <tr>\n",
              "      <th>0</th>\n",
              "      <td>2015-10-26</td>\n",
              "      <td>08:42:00</td>\n",
              "      <td>2015/11/03 00:00:00.000</td>\n",
              "      <td>Código 6 - AUTOS NO TALÃO MANUAL</td>\n",
              "      <td>5541</td>\n",
              "      <td>Estacionar o veículo em desacordo com as condi...</td>\n",
              "      <td>Art. 181, Inc. XVII</td>\n",
              "      <td>AV PORTUGAL EM FRENTE AO IMOVEL N 89</td>\n",
              "    </tr>\n",
              "    <tr>\n",
              "      <th>1</th>\n",
              "      <td>2015-10-26</td>\n",
              "      <td>08:45:00</td>\n",
              "      <td>2015/11/03 00:00:00.000</td>\n",
              "      <td>Código 6 - AUTOS NO TALÃO MANUAL</td>\n",
              "      <td>5541</td>\n",
              "      <td>Estacionar o veículo em desacordo com as condi...</td>\n",
              "      <td>Art. 181, Inc. XVII</td>\n",
              "      <td>AV PORTUGAL EM FRENTE AO IMOVEL N 89</td>\n",
              "    </tr>\n",
              "    <tr>\n",
              "      <th>2</th>\n",
              "      <td>2015-10-26</td>\n",
              "      <td>08:48:00</td>\n",
              "      <td>2015/11/03 00:00:00.000</td>\n",
              "      <td>Código 6 - AUTOS NO TALÃO MANUAL</td>\n",
              "      <td>5525</td>\n",
              "      <td>Estacionar o veículo na contramão de direção.</td>\n",
              "      <td>Art. 181, Inc. XV</td>\n",
              "      <td>AV PORTUGAL EM FRENTE AO IMOVEL N 101</td>\n",
              "    </tr>\n",
              "    <tr>\n",
              "      <th>3</th>\n",
              "      <td>2015-10-26</td>\n",
              "      <td>08:55:00</td>\n",
              "      <td>2015/11/03 00:00:00.000</td>\n",
              "      <td>Código 6 - AUTOS NO TALÃO MANUAL</td>\n",
              "      <td>5550</td>\n",
              "      <td>Estacionar o veículo em locais e horários proi...</td>\n",
              "      <td>Art. 181, Inc. XVIII</td>\n",
              "      <td>RUA PACIFICO DOS SANTOS EM FRENTE AO IMOVEL N 124</td>\n",
              "    </tr>\n",
              "    <tr>\n",
              "      <th>4</th>\n",
              "      <td>2015-10-26</td>\n",
              "      <td>09:10:00</td>\n",
              "      <td>2015/11/03 00:00:00.000</td>\n",
              "      <td>Código 6 - AUTOS NO TALÃO MANUAL</td>\n",
              "      <td>7366</td>\n",
              "      <td>Dirigir o veículo utilizando-se de telefone ce...</td>\n",
              "      <td>Art. 252, Inc. VI</td>\n",
              "      <td>AV GOV AGAMENON MAGALHAES EM FRENTE AO SEMAFOR...</td>\n",
              "    </tr>\n",
              "  </tbody>\n",
              "</table>\n",
              "</div>"
            ],
            "text/plain": [
              "  datainfracao  ...                                   localcometimento\n",
              "0   2015-10-26  ...               AV PORTUGAL EM FRENTE AO IMOVEL N 89\n",
              "1   2015-10-26  ...               AV PORTUGAL EM FRENTE AO IMOVEL N 89\n",
              "2   2015-10-26  ...              AV PORTUGAL EM FRENTE AO IMOVEL N 101\n",
              "3   2015-10-26  ...  RUA PACIFICO DOS SANTOS EM FRENTE AO IMOVEL N 124\n",
              "4   2015-10-26  ...  AV GOV AGAMENON MAGALHAES EM FRENTE AO SEMAFOR...\n",
              "\n",
              "[5 rows x 8 columns]"
            ]
          },
          "metadata": {
            "tags": []
          },
          "execution_count": 236
        }
      ]
    },
    {
      "cell_type": "code",
      "metadata": {
        "id": "cvegwQUAuiq3",
        "colab_type": "code",
        "colab": {}
      },
      "source": [
        "df1.datainfracao = pd.to_datetime(df1.datainfracao)"
      ],
      "execution_count": 0,
      "outputs": []
    },
    {
      "cell_type": "markdown",
      "metadata": {
        "id": "8soalkkOs9QL",
        "colab_type": "text"
      },
      "source": [
        "## **ANÁLISE 9**"
      ]
    },
    {
      "cell_type": "markdown",
      "metadata": {
        "id": "fKC774Ch3H6p",
        "colab_type": "text"
      },
      "source": [
        "**Comparando se cresceu ou diminuiu o número de infrações por excesso de velocidade do mês de Janeiro 2014 para o mês de Janeiro de 2015**"
      ]
    },
    {
      "cell_type": "markdown",
      "metadata": {
        "id": "4sRomRgs2SCB",
        "colab_type": "text"
      },
      "source": [
        "*Preparando Database 2014*"
      ]
    },
    {
      "cell_type": "code",
      "metadata": {
        "id": "ivtARMlqqiaf",
        "colab_type": "code",
        "colab": {}
      },
      "source": [
        "df2014 = df.loc[df.datainfracao.dt.month_name()== 'January']"
      ],
      "execution_count": 0,
      "outputs": []
    },
    {
      "cell_type": "code",
      "metadata": {
        "id": "2Ea7lt2_deY7",
        "colab_type": "code",
        "colab": {}
      },
      "source": [
        "df2014TotSemNome = df2014.datainfracao.dt.month_name().value_counts()"
      ],
      "execution_count": 0,
      "outputs": []
    },
    {
      "cell_type": "code",
      "metadata": {
        "id": "HXAk_p1W1cqE",
        "colab_type": "code",
        "colab": {}
      },
      "source": [
        "df2014Tot = df2014TotSemNome.rename(index={'January':'January 2014'})"
      ],
      "execution_count": 0,
      "outputs": []
    },
    {
      "cell_type": "markdown",
      "metadata": {
        "id": "UKDo03_j2DIS",
        "colab_type": "text"
      },
      "source": [
        "*Preparando Database 2015*"
      ]
    },
    {
      "cell_type": "code",
      "metadata": {
        "id": "mKFa9VSm5DFc",
        "colab_type": "code",
        "colab": {}
      },
      "source": [
        "df2015 = df1.loc[df1.datainfracao.dt.month_name()== 'January']"
      ],
      "execution_count": 0,
      "outputs": []
    },
    {
      "cell_type": "code",
      "metadata": {
        "id": "aBoYnH36aGzs",
        "colab_type": "code",
        "colab": {}
      },
      "source": [
        "df2015TotSemNome = df2015.datainfracao.dt.month_name().value_counts()"
      ],
      "execution_count": 0,
      "outputs": []
    },
    {
      "cell_type": "code",
      "metadata": {
        "id": "SgI50fU_1cHE",
        "colab_type": "code",
        "colab": {}
      },
      "source": [
        "df2015Tot = df2015TotSemNome.rename(index={'January':'January 2015'})"
      ],
      "execution_count": 0,
      "outputs": []
    },
    {
      "cell_type": "markdown",
      "metadata": {
        "id": "-OS5065J2jBu",
        "colab_type": "text"
      },
      "source": [
        "`Tabela`"
      ]
    },
    {
      "cell_type": "code",
      "metadata": {
        "id": "wMbMZbH3XDvp",
        "colab_type": "code",
        "colab": {}
      },
      "source": [
        "data = pd.concat([df2014Tot,df2015Tot])"
      ],
      "execution_count": 0,
      "outputs": []
    },
    {
      "cell_type": "code",
      "metadata": {
        "id": "Rz0NNl3qZHgt",
        "colab_type": "code",
        "colab": {
          "base_uri": "https://localhost:8080/",
          "height": 72
        },
        "outputId": "2194040a-04f9-458e-b9fa-954849e2c593"
      },
      "source": [
        "data"
      ],
      "execution_count": 191,
      "outputs": [
        {
          "output_type": "execute_result",
          "data": {
            "text/plain": [
              "January 2014    36477\n",
              "January 2015    50608\n",
              "Name: datainfracao, dtype: int64"
            ]
          },
          "metadata": {
            "tags": []
          },
          "execution_count": 191
        }
      ]
    },
    {
      "cell_type": "markdown",
      "metadata": {
        "id": "T8ZSiInl2ns0",
        "colab_type": "text"
      },
      "source": [
        "Gráfico e Barra"
      ]
    },
    {
      "cell_type": "code",
      "metadata": {
        "id": "lp7AjXxBZH-j",
        "colab_type": "code",
        "colab": {
          "base_uri": "https://localhost:8080/",
          "height": 299
        },
        "outputId": "36586c8e-a0b7-4047-fb2c-9e8d34ad833c"
      },
      "source": [
        "data.plot.bar(title=\"Comparação de Janeiro de 2014 e Janeiro de 2015 sobre infrações de excesso de velocidade\",color='pink',rot=0)\n"
      ],
      "execution_count": 192,
      "outputs": [
        {
          "output_type": "execute_result",
          "data": {
            "text/plain": [
              "<matplotlib.axes._subplots.AxesSubplot at 0x7f512454c668>"
            ]
          },
          "metadata": {
            "tags": []
          },
          "execution_count": 192
        },
        {
          "output_type": "display_data",
          "data": {
            "image/png": "[encoded data removed]",
            "text/plain": [
              "<Figure size 432x288 with 1 Axes>"
            ]
          },
          "metadata": {
            "tags": []
          }
        }
      ]
    },
    {
      "cell_type": "markdown",
      "metadata": {
        "id": "RB044HiU3Ckk",
        "colab_type": "text"
      },
      "source": [
        "## **ANÁLISE 10**"
      ]
    },
    {
      "cell_type": "markdown",
      "metadata": {
        "id": "jAPQTlvKEnNn",
        "colab_type": "text"
      },
      "source": [
        "**Crescimento ou Diminuição da quantidade de infrações de 2014 para 2015**"
      ]
    },
    {
      "cell_type": "markdown",
      "metadata": {
        "id": "i8oeOfeP5DqM",
        "colab_type": "text"
      },
      "source": [
        "*Preparando DataFrame 2014*"
      ]
    },
    {
      "cell_type": "code",
      "metadata": {
        "id": "ttu9q1KwZIWh",
        "colab_type": "code",
        "colab": {}
      },
      "source": [
        "TotX = [len(df)]"
      ],
      "execution_count": 0,
      "outputs": []
    },
    {
      "cell_type": "code",
      "metadata": {
        "id": "1ndrxicq4W65",
        "colab_type": "code",
        "colab": {}
      },
      "source": [
        "Tot2014SemNome = pd.DataFrame(data = TotX)"
      ],
      "execution_count": 0,
      "outputs": []
    },
    {
      "cell_type": "code",
      "metadata": {
        "id": "txfBcGb54Ww1",
        "colab_type": "code",
        "colab": {}
      },
      "source": [
        "Tot2014 = Tot2014SemNome.rename(index={0:'Total 2014'})"
      ],
      "execution_count": 0,
      "outputs": []
    },
    {
      "cell_type": "markdown",
      "metadata": {
        "id": "EUkhonZ25Skx",
        "colab_type": "text"
      },
      "source": [
        "*Preparando DataFrame 2015*"
      ]
    },
    {
      "cell_type": "code",
      "metadata": {
        "id": "N3PlNDHE4Wi2",
        "colab_type": "code",
        "colab": {}
      },
      "source": [
        "TotY = [len(df1)]"
      ],
      "execution_count": 0,
      "outputs": []
    },
    {
      "cell_type": "code",
      "metadata": {
        "id": "8UIArLwO5C9M",
        "colab_type": "code",
        "colab": {}
      },
      "source": [
        "Tot2015SemNome = pd.DataFrame(data = TotY)"
      ],
      "execution_count": 0,
      "outputs": []
    },
    {
      "cell_type": "code",
      "metadata": {
        "id": "IMKFzDCp5q36",
        "colab_type": "code",
        "colab": {}
      },
      "source": [
        "Tot2015 = Tot2015SemNome.rename(index={0:'Total 2015'})"
      ],
      "execution_count": 0,
      "outputs": []
    },
    {
      "cell_type": "markdown",
      "metadata": {
        "id": "aouNTqxM6Gv-",
        "colab_type": "text"
      },
      "source": [
        "`Tabela`"
      ]
    },
    {
      "cell_type": "code",
      "metadata": {
        "id": "sx7K20wJ9VMx",
        "colab_type": "code",
        "colab": {}
      },
      "source": [
        "data = pd.concat([Tot2014,Tot2015])"
      ],
      "execution_count": 0,
      "outputs": []
    },
    {
      "cell_type": "code",
      "metadata": {
        "id": "h1PP1Cdj9VC2",
        "colab_type": "code",
        "colab": {
          "base_uri": "https://localhost:8080/",
          "height": 112
        },
        "outputId": "566c9304-d350-4014-ff1d-104e93fc64e1"
      },
      "source": [
        "data"
      ],
      "execution_count": 204,
      "outputs": [
        {
          "output_type": "execute_result",
          "data": {
            "text/html": [
              "<div>\n",
              "<style scoped>\n",
              "    .dataframe tbody tr th:only-of-type {\n",
              "        vertical-align: middle;\n",
              "    }\n",
              "\n",
              "    .dataframe tbody tr th {\n",
              "        vertical-align: top;\n",
              "    }\n",
              "\n",
              "    .dataframe thead th {\n",
              "        text-align: right;\n",
              "    }\n",
              "</style>\n",
              "<table border=\"1\" class=\"dataframe\">\n",
              "  <thead>\n",
              "    <tr style=\"text-align: right;\">\n",
              "      <th></th>\n",
              "      <th>0</th>\n",
              "    </tr>\n",
              "  </thead>\n",
              "  <tbody>\n",
              "    <tr>\n",
              "      <th>Total 2014</th>\n",
              "      <td>418205</td>\n",
              "    </tr>\n",
              "    <tr>\n",
              "      <th>Total 2015</th>\n",
              "      <td>629158</td>\n",
              "    </tr>\n",
              "  </tbody>\n",
              "</table>\n",
              "</div>"
            ],
            "text/plain": [
              "                 0\n",
              "Total 2014  418205\n",
              "Total 2015  629158"
            ]
          },
          "metadata": {
            "tags": []
          },
          "execution_count": 204
        }
      ]
    },
    {
      "cell_type": "markdown",
      "metadata": {
        "id": "2Yo_gkER9k_U",
        "colab_type": "text"
      },
      "source": [
        "`Gráfico em Barra horizontal`"
      ]
    },
    {
      "cell_type": "code",
      "metadata": {
        "id": "33MgOtpk9U2R",
        "colab_type": "code",
        "colab": {
          "base_uri": "https://localhost:8080/",
          "height": 299
        },
        "outputId": "ca1d907a-9a86-47ac-eac4-c0bd2d800482"
      },
      "source": [
        "data.plot.barh(title=\"Comparação de quantidade de infrações de 2014 e 2015\",color='red')"
      ],
      "execution_count": 205,
      "outputs": [
        {
          "output_type": "execute_result",
          "data": {
            "text/plain": [
              "<matplotlib.axes._subplots.AxesSubplot at 0x7f5123e9bc18>"
            ]
          },
          "metadata": {
            "tags": []
          },
          "execution_count": 205
        },
        {
          "output_type": "display_data",
          "data": {
            "image/png": "[encoded data removed]",
            "text/plain": [
              "<Figure size 432x288 with 1 Axes>"
            ]
          },
          "metadata": {
            "tags": []
          }
        }
      ]
    },
    {
      "cell_type": "markdown",
      "metadata": {
        "id": "D2qNsVsV9V4P",
        "colab_type": "text"
      },
      "source": [
        "***Porcentagem de Crescimento***"
      ]
    },
    {
      "cell_type": "code",
      "metadata": {
        "id": "1Xk5wGGy5qdn",
        "colab_type": "code",
        "colab": {}
      },
      "source": [
        "Val = Tot2015[0][0] - Tot2014[0][0]"
      ],
      "execution_count": 0,
      "outputs": []
    },
    {
      "cell_type": "code",
      "metadata": {
        "id": "9GB2O_ic6GFN",
        "colab_type": "code",
        "colab": {}
      },
      "source": [
        "PcentTot = Val/Tot2014[0][0]*100"
      ],
      "execution_count": 0,
      "outputs": []
    },
    {
      "cell_type": "code",
      "metadata": {
        "id": "6p8lkaC-8q98",
        "colab_type": "code",
        "colab": {}
      },
      "source": [
        "PcentAbrev = round(PcentTot,2)"
      ],
      "execution_count": 0,
      "outputs": []
    },
    {
      "cell_type": "code",
      "metadata": {
        "id": "UdJepoCq9PZh",
        "colab_type": "code",
        "colab": {}
      },
      "source": [
        "x = [PcentAbrev]"
      ],
      "execution_count": 0,
      "outputs": []
    },
    {
      "cell_type": "code",
      "metadata": {
        "id": "_1IwimjD97P5",
        "colab_type": "code",
        "colab": {}
      },
      "source": [
        "data1SemNome = pd.DataFrame(data = x)"
      ],
      "execution_count": 0,
      "outputs": []
    },
    {
      "cell_type": "code",
      "metadata": {
        "id": "zaQ02yOj-Eub",
        "colab_type": "code",
        "colab": {}
      },
      "source": [
        "data1 = data1SemNome.rename(index={0:'Crescimento(%)'})"
      ],
      "execution_count": 0,
      "outputs": []
    },
    {
      "cell_type": "markdown",
      "metadata": {
        "id": "ARaIZcYp-cBz",
        "colab_type": "text"
      },
      "source": [
        "`Tabela`"
      ]
    },
    {
      "cell_type": "code",
      "metadata": {
        "id": "V_2rpe2e-WWD",
        "colab_type": "code",
        "colab": {
          "base_uri": "https://localhost:8080/",
          "height": 81
        },
        "outputId": "cd2b9571-c261-4e9d-a3e8-82f025ee0787"
      },
      "source": [
        "data1"
      ],
      "execution_count": 212,
      "outputs": [
        {
          "output_type": "execute_result",
          "data": {
            "text/html": [
              "<div>\n",
              "<style scoped>\n",
              "    .dataframe tbody tr th:only-of-type {\n",
              "        vertical-align: middle;\n",
              "    }\n",
              "\n",
              "    .dataframe tbody tr th {\n",
              "        vertical-align: top;\n",
              "    }\n",
              "\n",
              "    .dataframe thead th {\n",
              "        text-align: right;\n",
              "    }\n",
              "</style>\n",
              "<table border=\"1\" class=\"dataframe\">\n",
              "  <thead>\n",
              "    <tr style=\"text-align: right;\">\n",
              "      <th></th>\n",
              "      <th>0</th>\n",
              "    </tr>\n",
              "  </thead>\n",
              "  <tbody>\n",
              "    <tr>\n",
              "      <th>Crescimento(%)</th>\n",
              "      <td>50.44</td>\n",
              "    </tr>\n",
              "  </tbody>\n",
              "</table>\n",
              "</div>"
            ],
            "text/plain": [
              "                    0\n",
              "Crescimento(%)  50.44"
            ]
          },
          "metadata": {
            "tags": []
          },
          "execution_count": 212
        }
      ]
    },
    {
      "cell_type": "markdown",
      "metadata": {
        "id": "YfIg8TkY-2Xs",
        "colab_type": "text"
      },
      "source": [
        "`Gráfico em Linha`"
      ]
    },
    {
      "cell_type": "code",
      "metadata": {
        "id": "y1Be9FUx-9Fs",
        "colab_type": "code",
        "colab": {
          "base_uri": "https://localhost:8080/",
          "height": 299
        },
        "outputId": "15722bdc-2d0b-484f-a6d4-193983e258c8"
      },
      "source": [
        "data1.plot.bar(title=\"Porcentagem de Crescimento\",color='violet',rot=0)"
      ],
      "execution_count": 213,
      "outputs": [
        {
          "output_type": "execute_result",
          "data": {
            "text/plain": [
              "<matplotlib.axes._subplots.AxesSubplot at 0x7f512452cc88>"
            ]
          },
          "metadata": {
            "tags": []
          },
          "execution_count": 213
        },
        {
          "output_type": "display_data",
          "data": {
            "image/png": "[encoded data removed]",
            "text/plain": [
              "<Figure size 432x288 with 1 Axes>"
            ]
          },
          "metadata": {
            "tags": []
          }
        }
      ]
    },
    {
      "cell_type": "markdown",
      "metadata": {
        "id": "aM5wTpp2_Pco",
        "colab_type": "text"
      },
      "source": [
        "# **ANÁLISE EXPLORATÓRIA 2**"
      ]
    },
    {
      "cell_type": "markdown",
      "metadata": {
        "id": "kFpXk3fGIgrw",
        "colab_type": "text"
      },
      "source": [
        "**Evolução do número de infrações nos primeiros 6 meses**"
      ]
    },
    {
      "cell_type": "code",
      "metadata": {
        "id": "Q0Wa543l_Olt",
        "colab_type": "code",
        "colab": {}
      },
      "source": [
        "df.datainfracao = pd.to_datetime(df.datainfracao)"
      ],
      "execution_count": 0,
      "outputs": []
    },
    {
      "cell_type": "code",
      "metadata": {
        "id": "OmEauhuP_gb6",
        "colab_type": "code",
        "colab": {}
      },
      "source": [
        "meses2014 = df.datainfracao.dt.month_name().value_counts()"
      ],
      "execution_count": 0,
      "outputs": []
    },
    {
      "cell_type": "code",
      "metadata": {
        "id": "vLlisX9RGWMM",
        "colab_type": "code",
        "colab": {}
      },
      "source": [
        "new_order = ['January', 'February', 'March', 'April', 'May', 'June', 'July', 'August', 'September', 'October', 'November', 'December']"
      ],
      "execution_count": 0,
      "outputs": []
    },
    {
      "cell_type": "code",
      "metadata": {
        "id": "bFfSy7EgGXgn",
        "colab_type": "code",
        "colab": {}
      },
      "source": [
        "meses2014 = meses2014.reindex(new_order,axis=0)"
      ],
      "execution_count": 0,
      "outputs": []
    },
    {
      "cell_type": "code",
      "metadata": {
        "id": "w0Gl49R7tHaV",
        "colab_type": "code",
        "colab": {
          "base_uri": "https://localhost:8080/",
          "height": 146
        },
        "outputId": "6ed505e6-d3f5-4d89-e928-5975289b4d0a"
      },
      "source": [
        "meses2014[0:6]"
      ],
      "execution_count": 226,
      "outputs": [
        {
          "output_type": "execute_result",
          "data": {
            "text/plain": [
              "January     36477\n",
              "February    34521\n",
              "March       32471\n",
              "April       31759\n",
              "May         28006\n",
              "June        24654\n",
              "Name: datainfracao, dtype: int64"
            ]
          },
          "metadata": {
            "tags": []
          },
          "execution_count": 226
        }
      ]
    },
    {
      "cell_type": "code",
      "metadata": {
        "id": "ssezPhD1GqqX",
        "colab_type": "code",
        "colab": {
          "base_uri": "https://localhost:8080/",
          "height": 299
        },
        "outputId": "262857f4-d000-4973-e023-20efaa6bd29a"
      },
      "source": [
        "meses2014[0:6].plot(title=\"Evolução do número de infrações nos primeiros 6 meses de 2014\")"
      ],
      "execution_count": 218,
      "outputs": [
        {
          "output_type": "execute_result",
          "data": {
            "text/plain": [
              "<matplotlib.axes._subplots.AxesSubplot at 0x7f51242f2828>"
            ]
          },
          "metadata": {
            "tags": []
          },
          "execution_count": 218
        },
        {
          "output_type": "display_data",
          "data": {
            "image/png": "[encoded data removed]",
            "text/plain": [
              "<Figure size 432x288 with 1 Axes>"
            ]
          },
          "metadata": {
            "tags": []
          }
        }
      ]
    },
    {
      "cell_type": "markdown",
      "metadata": {
        "id": "rmA09HyUi93r",
        "colab_type": "text"
      },
      "source": [
        "**Comparação com boxplot dos meses de 2014 e 2015**"
      ]
    },
    {
      "cell_type": "code",
      "metadata": {
        "id": "fWuXvXTcI7ty",
        "colab_type": "code",
        "colab": {}
      },
      "source": [
        "df1.datainfracao = pd.to_datetime(df1.datainfracao)"
      ],
      "execution_count": 0,
      "outputs": []
    },
    {
      "cell_type": "code",
      "metadata": {
        "id": "_p5EA8GjI8LT",
        "colab_type": "code",
        "colab": {}
      },
      "source": [
        "meses2015 = df1.datainfracao.dt.month_name().value_counts()"
      ],
      "execution_count": 0,
      "outputs": []
    },
    {
      "cell_type": "code",
      "metadata": {
        "id": "4zjt-rKVjf8O",
        "colab_type": "code",
        "colab": {}
      },
      "source": [
        "meses2015 = meses2015.reindex(new_order,axis=0)"
      ],
      "execution_count": 0,
      "outputs": []
    },
    {
      "cell_type": "code",
      "metadata": {
        "id": "4v1imcoftMIh",
        "colab_type": "code",
        "colab": {
          "base_uri": "https://localhost:8080/",
          "height": 146
        },
        "outputId": "757542b7-766b-4c24-9500-8d8c65d74578"
      },
      "source": [
        "meses2015[0:6]"
      ],
      "execution_count": 227,
      "outputs": [
        {
          "output_type": "execute_result",
          "data": {
            "text/plain": [
              "January     50608\n",
              "February    47774\n",
              "March       47669\n",
              "April       54120\n",
              "May         47652\n",
              "June        39476\n",
              "Name: datainfracao, dtype: int64"
            ]
          },
          "metadata": {
            "tags": []
          },
          "execution_count": 227
        }
      ]
    },
    {
      "cell_type": "code",
      "metadata": {
        "id": "NEDkx0HQjxb4",
        "colab_type": "code",
        "colab": {}
      },
      "source": [
        "data = pd.DataFrame(data=[meses2014[0:6],meses2015[0:6]],index=['2014','2015'])"
      ],
      "execution_count": 0,
      "outputs": []
    },
    {
      "cell_type": "code",
      "metadata": {
        "id": "0ZYToNL0pOtW",
        "colab_type": "code",
        "colab": {
          "base_uri": "https://localhost:8080/",
          "height": 112
        },
        "outputId": "efd357bb-f771-4c1d-c968-f2c42d16bbec"
      },
      "source": [
        "data"
      ],
      "execution_count": 229,
      "outputs": [
        {
          "output_type": "execute_result",
          "data": {
            "text/html": [
              "<div>\n",
              "<style scoped>\n",
              "    .dataframe tbody tr th:only-of-type {\n",
              "        vertical-align: middle;\n",
              "    }\n",
              "\n",
              "    .dataframe tbody tr th {\n",
              "        vertical-align: top;\n",
              "    }\n",
              "\n",
              "    .dataframe thead th {\n",
              "        text-align: right;\n",
              "    }\n",
              "</style>\n",
              "<table border=\"1\" class=\"dataframe\">\n",
              "  <thead>\n",
              "    <tr style=\"text-align: right;\">\n",
              "      <th></th>\n",
              "      <th>January</th>\n",
              "      <th>February</th>\n",
              "      <th>March</th>\n",
              "      <th>April</th>\n",
              "      <th>May</th>\n",
              "      <th>June</th>\n",
              "    </tr>\n",
              "  </thead>\n",
              "  <tbody>\n",
              "    <tr>\n",
              "      <th>2014</th>\n",
              "      <td>36477</td>\n",
              "      <td>34521</td>\n",
              "      <td>32471</td>\n",
              "      <td>31759</td>\n",
              "      <td>28006</td>\n",
              "      <td>24654</td>\n",
              "    </tr>\n",
              "    <tr>\n",
              "      <th>2015</th>\n",
              "      <td>50608</td>\n",
              "      <td>47774</td>\n",
              "      <td>47669</td>\n",
              "      <td>54120</td>\n",
              "      <td>47652</td>\n",
              "      <td>39476</td>\n",
              "    </tr>\n",
              "  </tbody>\n",
              "</table>\n",
              "</div>"
            ],
            "text/plain": [
              "      January  February  March  April    May   June\n",
              "2014    36477     34521  32471  31759  28006  24654\n",
              "2015    50608     47774  47669  54120  47652  39476"
            ]
          },
          "metadata": {
            "tags": []
          },
          "execution_count": 229
        }
      ]
    },
    {
      "cell_type": "code",
      "metadata": {
        "id": "mwLDc0DHr9uZ",
        "colab_type": "code",
        "colab": {}
      },
      "source": [
        "import matplotlib.pyplot as plt"
      ],
      "execution_count": 0,
      "outputs": []
    },
    {
      "cell_type": "code",
      "metadata": {
        "id": "EWsdchmrj5wB",
        "colab_type": "code",
        "colab": {
          "base_uri": "https://localhost:8080/",
          "height": 281
        },
        "outputId": "ce3729c7-528a-4391-b33e-2694b08ac05d"
      },
      "source": [
        "data.boxplot()\n",
        "plt.title(\"Comparação com boxplot dos meses de 2014 e 2015\")\n",
        "plt.show()"
      ],
      "execution_count": 231,
      "outputs": [
        {
          "output_type": "display_data",
          "data": {
            "image/png": "[encoded data removed]",
            "text/plain": [
              "<Figure size 432x288 with 1 Axes>"
            ]
          },
          "metadata": {
            "tags": []
          }
        }
      ]
    }
  ]
}