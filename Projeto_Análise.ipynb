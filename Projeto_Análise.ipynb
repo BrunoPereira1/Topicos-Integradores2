{
  "nbformat": 4,
  "nbformat_minor": 0,
  "metadata": {
    "colab": {
      "name": "Projeto Análise.ipynb",
      "provenance": [],
      "toc_visible": true,
      "include_colab_link": true
    },
    "kernelspec": {
      "name": "python3",
      "display_name": "Python 3"
    }
  },
  "cells": [
    {
      "cell_type": "markdown",
      "metadata": {
        "id": "view-in-github",
        "colab_type": "text"
      },
      "source": [
        "<a href=\"https://colab.research.google.com/github/BrunoPereira1/Topicos-Integradores2/blob/master/Projeto_An%C3%A1lise.ipynb\" target=\"_parent\"><img src=\"https://colab.research.google.com/assets/colab-badge.svg\" alt=\"Open In Colab\"/></a>"
      ]
    },
    {
      "cell_type": "code",
      "metadata": {
        "id": "moQlzXECY7Qb",
        "colab_type": "code",
        "colab": {}
      },
      "source": [
        "import pandas as pd"
      ],
      "execution_count": 0,
      "outputs": []
    },
    {
      "cell_type": "code",
      "metadata": {
        "id": "MaJVxQYmZeWW",
        "colab_type": "code",
        "colab": {}
      },
      "source": [
        "df = pd.read_csv(\"relatorio-de-multas-implantadas-em-2014.csv\", sep=\";\")"
      ],
      "execution_count": 0,
      "outputs": []
    },
    {
      "cell_type": "markdown",
      "metadata": {
        "id": "TJHpKVfZiaoN",
        "colab_type": "text"
      },
      "source": [
        "## **ANÁLISE 1**"
      ]
    },
    {
      "cell_type": "markdown",
      "metadata": {
        "id": "f-JqVNVmilZL",
        "colab_type": "text"
      },
      "source": [
        "**As 10 infrações que mais ocorreram no ano de 2014.**"
      ]
    },
    {
      "cell_type": "markdown",
      "metadata": {
        "id": "C_mibbXtO_jK",
        "colab_type": "text"
      },
      "source": [
        "`Tabela`"
      ]
    },
    {
      "cell_type": "code",
      "metadata": {
        "id": "6qTuID9FekmJ",
        "colab_type": "code",
        "colab": {}
      },
      "source": [
        "data = pd.DataFrame(df.infracao.value_counts()[0:10])"
      ],
      "execution_count": 0,
      "outputs": []
    },
    {
      "cell_type": "code",
      "metadata": {
        "id": "EOSQgj2ki8TH",
        "colab_type": "code",
        "colab": {}
      },
      "source": [
        "data"
      ],
      "execution_count": 0,
      "outputs": []
    },
    {
      "cell_type": "markdown",
      "metadata": {
        "id": "K1Z6ElOmPCmt",
        "colab_type": "text"
      },
      "source": [
        "`Gráfico em Barra`"
      ]
    },
    {
      "cell_type": "code",
      "metadata": {
        "id": "n82rN1LeOzxY",
        "colab_type": "code",
        "colab": {}
      },
      "source": [
        "data.plot.bar(color='black')"
      ],
      "execution_count": 0,
      "outputs": []
    },
    {
      "cell_type": "markdown",
      "metadata": {
        "id": "JGCJmpTsi2sv",
        "colab_type": "text"
      },
      "source": [
        "## **ANÁLISE 2**"
      ]
    },
    {
      "cell_type": "markdown",
      "metadata": {
        "id": "-j4tmDcttNUZ",
        "colab_type": "text"
      },
      "source": [
        "**Os 3 meses que mais tiveram infrações no ano de 2014.**"
      ]
    },
    {
      "cell_type": "markdown",
      "metadata": {
        "id": "--AJ_bslxTM2",
        "colab_type": "text"
      },
      "source": [
        "`Tabela`"
      ]
    },
    {
      "cell_type": "code",
      "metadata": {
        "id": "5EBzKGgToxJg",
        "colab_type": "code",
        "colab": {}
      },
      "source": [
        "df.datainfracao = pd.to_datetime(df.datainfracao)"
      ],
      "execution_count": 0,
      "outputs": []
    },
    {
      "cell_type": "code",
      "metadata": {
        "id": "Hi-Vjiq-xNDa",
        "colab_type": "code",
        "colab": {}
      },
      "source": [
        "df.datainfracao.dt.month_name().value_counts()[0:3]"
      ],
      "execution_count": 0,
      "outputs": []
    },
    {
      "cell_type": "markdown",
      "metadata": {
        "id": "HOejMi6jxWCI",
        "colab_type": "text"
      },
      "source": [
        "`Gráfico em Barra`"
      ]
    },
    {
      "cell_type": "code",
      "metadata": {
        "id": "VMLq15lTrQ-y",
        "colab_type": "code",
        "colab": {}
      },
      "source": [
        "df.datainfracao.dt.month_name().value_counts()[0:3].plot.barh(color='red')"
      ],
      "execution_count": 0,
      "outputs": []
    },
    {
      "cell_type": "markdown",
      "metadata": {
        "id": "mXWiD04BtXT3",
        "colab_type": "text"
      },
      "source": [
        "## **ANÁLISE 3**"
      ]
    },
    {
      "cell_type": "markdown",
      "metadata": {
        "id": "TaDed4uAuCvX",
        "colab_type": "text"
      },
      "source": [
        "**Os 3 locais que mais ocorreram infrações no ano de 2014.**\n",
        "\n"
      ]
    },
    {
      "cell_type": "markdown",
      "metadata": {
        "id": "q0I4745YyyWC",
        "colab_type": "text"
      },
      "source": [
        "`Tabela`"
      ]
    },
    {
      "cell_type": "code",
      "metadata": {
        "id": "EiVFAXG4tWdR",
        "colab_type": "code",
        "colab": {}
      },
      "source": [
        "df.localcometimento.value_counts()[0:3]"
      ],
      "execution_count": 0,
      "outputs": []
    },
    {
      "cell_type": "markdown",
      "metadata": {
        "id": "MPlwOKQ1y1J6",
        "colab_type": "text"
      },
      "source": [
        "`Gráfico em Pizza`"
      ]
    },
    {
      "cell_type": "code",
      "metadata": {
        "id": "iRVql64iypkA",
        "colab_type": "code",
        "colab": {}
      },
      "source": [
        "df.localcometimento.value_counts()[0:3].plot.pie()"
      ],
      "execution_count": 0,
      "outputs": []
    },
    {
      "cell_type": "markdown",
      "metadata": {
        "id": "_E6a-T9XuJPR",
        "colab_type": "text"
      },
      "source": [
        "## **ANÁLISE 4**"
      ]
    },
    {
      "cell_type": "markdown",
      "metadata": {
        "id": "MVh8yK13zeY9",
        "colab_type": "text"
      },
      "source": [
        "**Os 5 horários que mais ocorreram infrações.**"
      ]
    },
    {
      "cell_type": "markdown",
      "metadata": {
        "id": "iXvbUrnQz3ZE",
        "colab_type": "text"
      },
      "source": [
        "`Tabela`"
      ]
    },
    {
      "cell_type": "code",
      "metadata": {
        "id": "hNWhPaPEuINp",
        "colab_type": "code",
        "colab": {}
      },
      "source": [
        "df.horainfracao.value_counts()[0:5]"
      ],
      "execution_count": 0,
      "outputs": []
    },
    {
      "cell_type": "markdown",
      "metadata": {
        "id": "Xkh1_Rloz513",
        "colab_type": "text"
      },
      "source": [
        "`Gráfico em Barra`"
      ]
    },
    {
      "cell_type": "code",
      "metadata": {
        "id": "2-UJlKNAuITn",
        "colab_type": "code",
        "colab": {}
      },
      "source": [
        "df.horainfracao.value_counts()[0:5].plot.bar(color='green')"
      ],
      "execution_count": 0,
      "outputs": []
    },
    {
      "cell_type": "markdown",
      "metadata": {
        "id": "dPdjUrU80G0l",
        "colab_type": "text"
      },
      "source": [
        "## **ANÁLISE 5**"
      ]
    },
    {
      "cell_type": "markdown",
      "metadata": {
        "id": "WiY8Zs82pNgw",
        "colab_type": "text"
      },
      "source": [
        "**Infrações cometidas por estacionar em desacordo com as condições do local (Zona Azul)**"
      ]
    },
    {
      "cell_type": "markdown",
      "metadata": {
        "id": "N5ZOkWw2pZFd",
        "colab_type": "text"
      },
      "source": [
        "`Tabela`"
      ]
    },
    {
      "cell_type": "code",
      "metadata": {
        "id": "x75SjNHD5XpO",
        "colab_type": "code",
        "colab": {}
      },
      "source": [
        "data = pd.concat([df.agenteequipamento.value_counts().filter(like=\"7\"),df.agenteequipamento.value_counts().filter(like=\"2\")])"
      ],
      "execution_count": 0,
      "outputs": []
    },
    {
      "cell_type": "code",
      "metadata": {
        "id": "vueyYrJHuIZY",
        "colab_type": "code",
        "colab": {}
      },
      "source": [
        "data"
      ],
      "execution_count": 0,
      "outputs": []
    },
    {
      "cell_type": "markdown",
      "metadata": {
        "id": "4f1KZcYtpa2H",
        "colab_type": "text"
      },
      "source": [
        "`Gráfico em Barra horizontal`"
      ]
    },
    {
      "cell_type": "code",
      "metadata": {
        "id": "nqWOxBFDuIcX",
        "colab_type": "code",
        "colab": {
          "base_uri": "https://localhost:8080/",
          "height": 287
        },
        "outputId": "7d1f9c6f-2a1f-4243-914d-819a75991f05"
      },
      "source": [
        "data.plot.barh(color='yellow')"
      ],
      "execution_count": 15,
      "outputs": [
        {
          "output_type": "execute_result",
          "data": {
            "text/plain": [
              "<matplotlib.axes._subplots.AxesSubplot at 0x7fe0401222e8>"
            ]
          },
          "metadata": {
            "tags": []
          },
          "execution_count": 15
        },
        {
          "output_type": "display_data",
          "data": {
            "image/png": "[encoded data removed]",
            "text/plain": [
              "<Figure size 432x288 with 1 Axes>"
            ]
          },
          "metadata": {
            "tags": []
          }
        }
      ]
    },
    {
      "cell_type": "markdown",
      "metadata": {
        "id": "n1damx-Qpiol",
        "colab_type": "text"
      },
      "source": [
        "## **ANÁLISE 6**"
      ]
    },
    {
      "cell_type": "markdown",
      "metadata": {
        "id": "WtAu_v3yydEO",
        "colab_type": "text"
      },
      "source": [
        "**Número de infrações cometidas com excesso de velocidade**"
      ]
    },
    {
      "cell_type": "markdown",
      "metadata": {
        "id": "qMgYh8vIy3u9",
        "colab_type": "text"
      },
      "source": [
        "`Tabela`"
      ]
    },
    {
      "cell_type": "code",
      "metadata": {
        "id": "MibT5d4GuIfZ",
        "colab_type": "code",
        "colab": {}
      },
      "source": [
        "data = df.descricaoinfracao.value_counts().filter(like='Transitar em velocidade superior à máxima')"
      ],
      "execution_count": 0,
      "outputs": []
    },
    {
      "cell_type": "code",
      "metadata": {
        "id": "VPeaYnqLrRcN",
        "colab_type": "code",
        "colab": {}
      },
      "source": [
        "data"
      ],
      "execution_count": 0,
      "outputs": []
    },
    {
      "cell_type": "markdown",
      "metadata": {
        "id": "CIkRGEX0y9F1",
        "colab_type": "text"
      },
      "source": [
        "`Gráfico em Pizza`"
      ]
    },
    {
      "cell_type": "code",
      "metadata": {
        "id": "gnlyCSlArX1y",
        "colab_type": "code",
        "colab": {}
      },
      "source": [
        "data.plot.pie()"
      ],
      "execution_count": 0,
      "outputs": []
    },
    {
      "cell_type": "markdown",
      "metadata": {
        "id": "fYGCeIJizBK_",
        "colab_type": "text"
      },
      "source": [
        "## **ANÁLISE 7**"
      ]
    },
    {
      "cell_type": "markdown",
      "metadata": {
        "id": "8iRODDrnAkiH",
        "colab_type": "text"
      },
      "source": [
        "**Número de infrações cometidas ao dirigir usando Telefone Celular**"
      ]
    },
    {
      "cell_type": "markdown",
      "metadata": {
        "id": "mhcIft5yAtVJ",
        "colab_type": "text"
      },
      "source": [
        "`Tabela`"
      ]
    },
    {
      "cell_type": "code",
      "metadata": {
        "id": "1_3Y5_n0rXsN",
        "colab_type": "code",
        "colab": {}
      },
      "source": [
        "data = df.descricaoinfracao.value_counts().filter(like='celular')"
      ],
      "execution_count": 0,
      "outputs": []
    },
    {
      "cell_type": "code",
      "metadata": {
        "id": "NXE75cLwrXcq",
        "colab_type": "code",
        "colab": {}
      },
      "source": [
        "data"
      ],
      "execution_count": 0,
      "outputs": []
    },
    {
      "cell_type": "markdown",
      "metadata": {
        "id": "DpgPkLW3A31F",
        "colab_type": "text"
      },
      "source": [
        "`Gráfico em Barra horizontal`"
      ]
    },
    {
      "cell_type": "code",
      "metadata": {
        "id": "su0Mlz4X4f8M",
        "colab_type": "code",
        "colab": {}
      },
      "source": [
        "x = [len(df)]"
      ],
      "execution_count": 0,
      "outputs": []
    },
    {
      "cell_type": "code",
      "metadata": {
        "id": "lfZ3rCI040bY",
        "colab_type": "code",
        "colab": {}
      },
      "source": [
        "y = pd.DataFrame(data = x)"
      ],
      "execution_count": 0,
      "outputs": []
    },
    {
      "cell_type": "code",
      "metadata": {
        "id": "zX6xap59DpKe",
        "colab_type": "code",
        "colab": {}
      },
      "source": [
        "z = y.rename(index={0:'Total 2014'})"
      ],
      "execution_count": 0,
      "outputs": []
    },
    {
      "cell_type": "code",
      "metadata": {
        "id": "y8KOfEID5k5y",
        "colab_type": "code",
        "colab": {}
      },
      "source": [
        "compare = pd.concat([data,z])"
      ],
      "execution_count": 0,
      "outputs": []
    },
    {
      "cell_type": "code",
      "metadata": {
        "id": "pcxjP-B_45Tz",
        "colab_type": "code",
        "colab": {}
      },
      "source": [
        "compare.plot.barh(color='blue')"
      ],
      "execution_count": 0,
      "outputs": []
    },
    {
      "cell_type": "markdown",
      "metadata": {
        "id": "Z79bMjakA98c",
        "colab_type": "text"
      },
      "source": [
        "## **ANÁLISE 8**"
      ]
    },
    {
      "cell_type": "markdown",
      "metadata": {
        "id": "njQG6SFBsTVI",
        "colab_type": "text"
      },
      "source": [
        "**Os 5 locais que mais ocorreram infrações no dia 01 de Janeiro de 2014**"
      ]
    },
    {
      "cell_type": "markdown",
      "metadata": {
        "id": "0XcXtYocssl3",
        "colab_type": "text"
      },
      "source": [
        "`Tabela`"
      ]
    },
    {
      "cell_type": "code",
      "metadata": {
        "id": "PZuzFV0j5DLG",
        "colab_type": "code",
        "colab": {}
      },
      "source": [
        "dti = df.loc[df['datainfracao'].isin(['2014-01-01'])]"
      ],
      "execution_count": 0,
      "outputs": []
    },
    {
      "cell_type": "code",
      "metadata": {
        "id": "YKDG755ehmp1",
        "colab_type": "code",
        "colab": {}
      },
      "source": [
        "dti.localcometimento.value_counts()[0:5]"
      ],
      "execution_count": 0,
      "outputs": []
    },
    {
      "cell_type": "markdown",
      "metadata": {
        "id": "j2yXfrPhsvHj",
        "colab_type": "text"
      },
      "source": [
        "`Gráfico em Pizza`"
      ]
    },
    {
      "cell_type": "code",
      "metadata": {
        "id": "Bs5QyMLnpFOX",
        "colab_type": "code",
        "colab": {}
      },
      "source": [
        "dti.localcometimento.value_counts()[0:5].plot.pie()"
      ],
      "execution_count": 0,
      "outputs": []
    },
    {
      "cell_type": "markdown",
      "metadata": {
        "id": "GTIm8WeJuAR8",
        "colab_type": "text"
      },
      "source": [
        "## *INCLUINDO OUTRA DATABASE PARA COMPARAÇÕES TEMPORAIS*"
      ]
    },
    {
      "cell_type": "code",
      "metadata": {
        "id": "BZzJfA1mt_mz",
        "colab_type": "code",
        "colab": {}
      },
      "source": [
        "df1 = pd.read_csv(\"relatorio-de-multas-implantadas-em-2015.csv\", sep=\";\")"
      ],
      "execution_count": 0,
      "outputs": []
    },
    {
      "cell_type": "code",
      "metadata": {
        "id": "cvegwQUAuiq3",
        "colab_type": "code",
        "colab": {}
      },
      "source": [
        "df1.datainfracao = pd.to_datetime(df1.datainfracao)"
      ],
      "execution_count": 0,
      "outputs": []
    },
    {
      "cell_type": "markdown",
      "metadata": {
        "id": "8soalkkOs9QL",
        "colab_type": "text"
      },
      "source": [
        "## **ANÁLISE 9**"
      ]
    },
    {
      "cell_type": "markdown",
      "metadata": {
        "id": "fKC774Ch3H6p",
        "colab_type": "text"
      },
      "source": [
        "**Comparando se cresceu ou diminuiu o número de infrações por excesso de velocidade do mês de Janeiro 2014 para o mês de Janeiro de 2015**"
      ]
    },
    {
      "cell_type": "markdown",
      "metadata": {
        "id": "4sRomRgs2SCB",
        "colab_type": "text"
      },
      "source": [
        "*Preparando Database 2014*"
      ]
    },
    {
      "cell_type": "code",
      "metadata": {
        "id": "ivtARMlqqiaf",
        "colab_type": "code",
        "colab": {}
      },
      "source": [
        "df2014 = df.loc[df.datainfracao.dt.month_name()== 'January']"
      ],
      "execution_count": 0,
      "outputs": []
    },
    {
      "cell_type": "code",
      "metadata": {
        "id": "2Ea7lt2_deY7",
        "colab_type": "code",
        "colab": {}
      },
      "source": [
        "df2014TotSemNome = df2014.datainfracao.dt.month_name().value_counts()"
      ],
      "execution_count": 0,
      "outputs": []
    },
    {
      "cell_type": "code",
      "metadata": {
        "id": "HXAk_p1W1cqE",
        "colab_type": "code",
        "colab": {}
      },
      "source": [
        "df2014Tot = df2014TotSemNome.rename(index={'January':'January 2014'})"
      ],
      "execution_count": 0,
      "outputs": []
    },
    {
      "cell_type": "markdown",
      "metadata": {
        "id": "UKDo03_j2DIS",
        "colab_type": "text"
      },
      "source": [
        "*Preparando Database 2015*"
      ]
    },
    {
      "cell_type": "code",
      "metadata": {
        "id": "mKFa9VSm5DFc",
        "colab_type": "code",
        "colab": {}
      },
      "source": [
        "df2015 = df1.loc[df1.datainfracao.dt.month_name()== 'January']"
      ],
      "execution_count": 0,
      "outputs": []
    },
    {
      "cell_type": "code",
      "metadata": {
        "id": "aBoYnH36aGzs",
        "colab_type": "code",
        "colab": {}
      },
      "source": [
        "df2015TotSemNome = df2015.datainfracao.dt.month_name().value_counts()"
      ],
      "execution_count": 0,
      "outputs": []
    },
    {
      "cell_type": "code",
      "metadata": {
        "id": "SgI50fU_1cHE",
        "colab_type": "code",
        "colab": {}
      },
      "source": [
        "df2015Tot = df2015TotSemNome.rename(index={'January':'January 2015'})"
      ],
      "execution_count": 0,
      "outputs": []
    },
    {
      "cell_type": "markdown",
      "metadata": {
        "id": "-OS5065J2jBu",
        "colab_type": "text"
      },
      "source": [
        "`Tabela`"
      ]
    },
    {
      "cell_type": "code",
      "metadata": {
        "id": "wMbMZbH3XDvp",
        "colab_type": "code",
        "colab": {}
      },
      "source": [
        "data = pd.concat([df2014Tot,df2015Tot])"
      ],
      "execution_count": 0,
      "outputs": []
    },
    {
      "cell_type": "code",
      "metadata": {
        "id": "Rz0NNl3qZHgt",
        "colab_type": "code",
        "colab": {}
      },
      "source": [
        "data"
      ],
      "execution_count": 0,
      "outputs": []
    },
    {
      "cell_type": "markdown",
      "metadata": {
        "id": "T8ZSiInl2ns0",
        "colab_type": "text"
      },
      "source": [
        "Gráfico e Barra"
      ]
    },
    {
      "cell_type": "code",
      "metadata": {
        "id": "lp7AjXxBZH-j",
        "colab_type": "code",
        "colab": {}
      },
      "source": [
        "data.plot.bar()"
      ],
      "execution_count": 0,
      "outputs": []
    },
    {
      "cell_type": "markdown",
      "metadata": {
        "id": "RB044HiU3Ckk",
        "colab_type": "text"
      },
      "source": [
        "## **ANÁLISE 10**"
      ]
    },
    {
      "cell_type": "markdown",
      "metadata": {
        "id": "jAPQTlvKEnNn",
        "colab_type": "text"
      },
      "source": [
        "**Crescimento ou Diminuição da quantidade de infrações de 2014 para 2015**"
      ]
    },
    {
      "cell_type": "markdown",
      "metadata": {
        "id": "i8oeOfeP5DqM",
        "colab_type": "text"
      },
      "source": [
        "*Preparando DataFrame 2014*"
      ]
    },
    {
      "cell_type": "code",
      "metadata": {
        "id": "ttu9q1KwZIWh",
        "colab_type": "code",
        "colab": {}
      },
      "source": [
        "TotX = [len(df)]"
      ],
      "execution_count": 0,
      "outputs": []
    },
    {
      "cell_type": "code",
      "metadata": {
        "id": "1ndrxicq4W65",
        "colab_type": "code",
        "colab": {}
      },
      "source": [
        "Tot2014SemNome = pd.DataFrame(data = TotX)"
      ],
      "execution_count": 0,
      "outputs": []
    },
    {
      "cell_type": "code",
      "metadata": {
        "id": "txfBcGb54Ww1",
        "colab_type": "code",
        "colab": {}
      },
      "source": [
        "Tot2014 = Tot2014SemNome.rename(index={0:'Total 2014'})"
      ],
      "execution_count": 0,
      "outputs": []
    },
    {
      "cell_type": "markdown",
      "metadata": {
        "id": "EUkhonZ25Skx",
        "colab_type": "text"
      },
      "source": [
        "*Preparando DataFrame 2015*"
      ]
    },
    {
      "cell_type": "code",
      "metadata": {
        "id": "N3PlNDHE4Wi2",
        "colab_type": "code",
        "colab": {}
      },
      "source": [
        "TotY = [len(df1)]"
      ],
      "execution_count": 0,
      "outputs": []
    },
    {
      "cell_type": "code",
      "metadata": {
        "id": "8UIArLwO5C9M",
        "colab_type": "code",
        "colab": {}
      },
      "source": [
        "Tot2015SemNome = pd.DataFrame(data = TotY)"
      ],
      "execution_count": 0,
      "outputs": []
    },
    {
      "cell_type": "code",
      "metadata": {
        "id": "IMKFzDCp5q36",
        "colab_type": "code",
        "colab": {}
      },
      "source": [
        "Tot2015 = Tot2015SemNome.rename(index={0:'Total 2015'})"
      ],
      "execution_count": 0,
      "outputs": []
    },
    {
      "cell_type": "markdown",
      "metadata": {
        "id": "aouNTqxM6Gv-",
        "colab_type": "text"
      },
      "source": [
        "`Tabela`"
      ]
    },
    {
      "cell_type": "code",
      "metadata": {
        "id": "sx7K20wJ9VMx",
        "colab_type": "code",
        "colab": {}
      },
      "source": [
        "data = pd.concat([Tot2014,Tot2015])"
      ],
      "execution_count": 0,
      "outputs": []
    },
    {
      "cell_type": "code",
      "metadata": {
        "id": "h1PP1Cdj9VC2",
        "colab_type": "code",
        "colab": {}
      },
      "source": [
        "data"
      ],
      "execution_count": 0,
      "outputs": []
    },
    {
      "cell_type": "markdown",
      "metadata": {
        "id": "2Yo_gkER9k_U",
        "colab_type": "text"
      },
      "source": [
        "`Gráfico em Barra horizontal`"
      ]
    },
    {
      "cell_type": "code",
      "metadata": {
        "id": "33MgOtpk9U2R",
        "colab_type": "code",
        "colab": {}
      },
      "source": [
        "data.plot.barh(color='red')"
      ],
      "execution_count": 0,
      "outputs": []
    },
    {
      "cell_type": "markdown",
      "metadata": {
        "id": "D2qNsVsV9V4P",
        "colab_type": "text"
      },
      "source": [
        "***Porcentagem de Crescimento***"
      ]
    },
    {
      "cell_type": "code",
      "metadata": {
        "id": "1Xk5wGGy5qdn",
        "colab_type": "code",
        "colab": {}
      },
      "source": [
        "Val = Tot2015[0][0] - Tot2014[0][0]"
      ],
      "execution_count": 0,
      "outputs": []
    },
    {
      "cell_type": "code",
      "metadata": {
        "id": "9GB2O_ic6GFN",
        "colab_type": "code",
        "colab": {}
      },
      "source": [
        "PcentTot = Val/Tot2014[0][0]*100"
      ],
      "execution_count": 0,
      "outputs": []
    },
    {
      "cell_type": "code",
      "metadata": {
        "id": "6p8lkaC-8q98",
        "colab_type": "code",
        "colab": {}
      },
      "source": [
        "PcentAbrev = round(PcentTot,2)"
      ],
      "execution_count": 0,
      "outputs": []
    },
    {
      "cell_type": "code",
      "metadata": {
        "id": "UdJepoCq9PZh",
        "colab_type": "code",
        "colab": {}
      },
      "source": [
        "x = [PcentAbrev]"
      ],
      "execution_count": 0,
      "outputs": []
    },
    {
      "cell_type": "code",
      "metadata": {
        "id": "_1IwimjD97P5",
        "colab_type": "code",
        "colab": {}
      },
      "source": [
        "data1SemNome = pd.DataFrame(data = x)"
      ],
      "execution_count": 0,
      "outputs": []
    },
    {
      "cell_type": "code",
      "metadata": {
        "id": "zaQ02yOj-Eub",
        "colab_type": "code",
        "colab": {}
      },
      "source": [
        "data1 = data1SemNome.rename(index={0:'Crescimento(%)'})"
      ],
      "execution_count": 0,
      "outputs": []
    },
    {
      "cell_type": "markdown",
      "metadata": {
        "id": "ARaIZcYp-cBz",
        "colab_type": "text"
      },
      "source": [
        "`Tabela`"
      ]
    },
    {
      "cell_type": "code",
      "metadata": {
        "id": "V_2rpe2e-WWD",
        "colab_type": "code",
        "colab": {}
      },
      "source": [
        "data1"
      ],
      "execution_count": 0,
      "outputs": []
    },
    {
      "cell_type": "markdown",
      "metadata": {
        "id": "YfIg8TkY-2Xs",
        "colab_type": "text"
      },
      "source": [
        "`Gráfico em Linha`"
      ]
    },
    {
      "cell_type": "code",
      "metadata": {
        "id": "y1Be9FUx-9Fs",
        "colab_type": "code",
        "colab": {}
      },
      "source": [
        "data1.plot.bar(color='violet')"
      ],
      "execution_count": 0,
      "outputs": []
    }
  ]
}