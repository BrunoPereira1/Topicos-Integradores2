{
  "nbformat": 4,
  "nbformat_minor": 0,
  "metadata": {
    "colab": {
      "name": "Projeto Análise.ipynb",
      "provenance": [],
      "include_colab_link": true
    },
    "kernelspec": {
      "name": "python3",
      "display_name": "Python 3"
    }
  },
  "cells": [
    {
      "cell_type": "markdown",
      "metadata": {
        "id": "view-in-github",
        "colab_type": "text"
      },
      "source": [
        "<a href=\"https://colab.research.google.com/github/BrunoPereira1/Topicos-Integradores2/blob/master/Projeto_An%C3%A1lise.ipynb\" target=\"_parent\"><img src=\"https://colab.research.google.com/assets/colab-badge.svg\" alt=\"Open In Colab\"/></a>"
      ]
    },
    {
      "cell_type": "code",
      "metadata": {
        "id": "moQlzXECY7Qb",
        "colab_type": "code",
        "colab": {}
      },
      "source": [
        "import pandas as pd"
      ],
      "execution_count": 0,
      "outputs": []
    },
    {
      "cell_type": "code",
      "metadata": {
        "id": "MaJVxQYmZeWW",
        "colab_type": "code",
        "colab": {}
      },
      "source": [
        "df = pd.read_csv(\"relatorio-de-multas-implantadas-em-2014.csv\", sep=\";\")"
      ],
      "execution_count": 0,
      "outputs": []
    },
    {
      "cell_type": "code",
      "metadata": {
        "id": "QiXAlEeuaBbz",
        "colab_type": "code",
        "colab": {}
      },
      "source": [
        "df.head()"
      ],
      "execution_count": 0,
      "outputs": []
    },
    {
      "cell_type": "code",
      "metadata": {
        "id": "900OWrFecjSs",
        "colab_type": "code",
        "colab": {}
      },
      "source": [
        "df.columns"
      ],
      "execution_count": 0,
      "outputs": []
    },
    {
      "cell_type": "code",
      "metadata": {
        "id": "IPbINwYnd_GK",
        "colab_type": "code",
        "colab": {}
      },
      "source": [
        "df.dtypes"
      ],
      "execution_count": 0,
      "outputs": []
    },
    {
      "cell_type": "markdown",
      "metadata": {
        "id": "TJHpKVfZiaoN",
        "colab_type": "text"
      },
      "source": [
        "**ANÁLISE 1**"
      ]
    },
    {
      "cell_type": "markdown",
      "metadata": {
        "id": "f-JqVNVmilZL",
        "colab_type": "text"
      },
      "source": [
        "**As 10 infrações que mais ocorreram no ano de 2014.**"
      ]
    },
    {
      "cell_type": "code",
      "metadata": {
        "id": "6qTuID9FekmJ",
        "colab_type": "code",
        "colab": {}
      },
      "source": [
        "data = pd.DataFrame(df.infracao.value_counts()[0:10])"
      ],
      "execution_count": 0,
      "outputs": []
    },
    {
      "cell_type": "code",
      "metadata": {
        "id": "EOSQgj2ki8TH",
        "colab_type": "code",
        "colab": {}
      },
      "source": [
        "data"
      ],
      "execution_count": 0,
      "outputs": []
    },
    {
      "cell_type": "markdown",
      "metadata": {
        "id": "JGCJmpTsi2sv",
        "colab_type": "text"
      },
      "source": [
        "**ANÁLISE 2**"
      ]
    },
    {
      "cell_type": "markdown",
      "metadata": {
        "id": "-j4tmDcttNUZ",
        "colab_type": "text"
      },
      "source": [
        "**Os 3 meses que mais tiveram infrações no ano de 2014.**"
      ]
    },
    {
      "cell_type": "code",
      "metadata": {
        "id": "5EBzKGgToxJg",
        "colab_type": "code",
        "colab": {}
      },
      "source": [
        "df.datainfracao = pd.to_datetime(df.datainfracao)"
      ],
      "execution_count": 0,
      "outputs": []
    },
    {
      "cell_type": "markdown",
      "metadata": {
        "id": "--AJ_bslxTM2",
        "colab_type": "text"
      },
      "source": [
        "`Tabela`"
      ]
    },
    {
      "cell_type": "code",
      "metadata": {
        "id": "Hi-Vjiq-xNDa",
        "colab_type": "code",
        "colab": {}
      },
      "source": [
        "df.datainfracao.dt.month_name().value_counts()[0:3]"
      ],
      "execution_count": 0,
      "outputs": []
    },
    {
      "cell_type": "markdown",
      "metadata": {
        "id": "HOejMi6jxWCI",
        "colab_type": "text"
      },
      "source": [
        "`Gráfico em Barra`"
      ]
    },
    {
      "cell_type": "code",
      "metadata": {
        "id": "VMLq15lTrQ-y",
        "colab_type": "code",
        "colab": {}
      },
      "source": [
        "df.datainfracao.dt.month_name().value_counts()[0:3].plot.bar()"
      ],
      "execution_count": 0,
      "outputs": []
    },
    {
      "cell_type": "markdown",
      "metadata": {
        "id": "mXWiD04BtXT3",
        "colab_type": "text"
      },
      "source": [
        "**ANÁLISE 3**"
      ]
    },
    {
      "cell_type": "markdown",
      "metadata": {
        "id": "TaDed4uAuCvX",
        "colab_type": "text"
      },
      "source": [
        "**Os 3 locais que mais ocorreram infrações no ano de 2014.**\n",
        "\n"
      ]
    },
    {
      "cell_type": "markdown",
      "metadata": {
        "id": "q0I4745YyyWC",
        "colab_type": "text"
      },
      "source": [
        "`Tabela`"
      ]
    },
    {
      "cell_type": "code",
      "metadata": {
        "id": "EiVFAXG4tWdR",
        "colab_type": "code",
        "colab": {}
      },
      "source": [
        "df.localcometimento.value_counts()[0:3]"
      ],
      "execution_count": 0,
      "outputs": []
    },
    {
      "cell_type": "markdown",
      "metadata": {
        "id": "MPlwOKQ1y1J6",
        "colab_type": "text"
      },
      "source": [
        "`Gráfico em Pizza`"
      ]
    },
    {
      "cell_type": "code",
      "metadata": {
        "id": "iRVql64iypkA",
        "colab_type": "code",
        "colab": {}
      },
      "source": [
        "df.localcometimento.value_counts()[0:3].plot.pie()"
      ],
      "execution_count": 0,
      "outputs": []
    },
    {
      "cell_type": "markdown",
      "metadata": {
        "id": "_E6a-T9XuJPR",
        "colab_type": "text"
      },
      "source": [
        "**ANÁLISE 4**"
      ]
    },
    {
      "cell_type": "markdown",
      "metadata": {
        "id": "MVh8yK13zeY9",
        "colab_type": "text"
      },
      "source": [
        "**Os 5 horários que mais ocorreram infrações.**"
      ]
    },
    {
      "cell_type": "markdown",
      "metadata": {
        "id": "iXvbUrnQz3ZE",
        "colab_type": "text"
      },
      "source": [
        "`Tabela`"
      ]
    },
    {
      "cell_type": "code",
      "metadata": {
        "id": "hNWhPaPEuINp",
        "colab_type": "code",
        "colab": {}
      },
      "source": [
        "df.horainfracao.value_counts()[0:5]"
      ],
      "execution_count": 0,
      "outputs": []
    },
    {
      "cell_type": "markdown",
      "metadata": {
        "id": "Xkh1_Rloz513",
        "colab_type": "text"
      },
      "source": [
        "`Gráfico em Barra`"
      ]
    },
    {
      "cell_type": "code",
      "metadata": {
        "id": "2-UJlKNAuITn",
        "colab_type": "code",
        "colab": {}
      },
      "source": [
        "df.horainfracao.value_counts()[0:5].plot.bar()"
      ],
      "execution_count": 0,
      "outputs": []
    },
    {
      "cell_type": "markdown",
      "metadata": {
        "id": "dPdjUrU80G0l",
        "colab_type": "text"
      },
      "source": [
        "**ANÁLISE 5**"
      ]
    },
    {
      "cell_type": "markdown",
      "metadata": {
        "id": "WiY8Zs82pNgw",
        "colab_type": "text"
      },
      "source": [
        "**Infrações cometidas por estacionar em desacordo com as condições do local (Zona Azul)**"
      ]
    },
    {
      "cell_type": "markdown",
      "metadata": {
        "id": "N5ZOkWw2pZFd",
        "colab_type": "text"
      },
      "source": [
        "`Tabela`"
      ]
    },
    {
      "cell_type": "code",
      "metadata": {
        "id": "x75SjNHD5XpO",
        "colab_type": "code",
        "colab": {}
      },
      "source": [
        "data = pd.concat([df.agenteequipamento.value_counts().filter(like=\"7\"),df.agenteequipamento.value_counts().filter(like=\"2\")])"
      ],
      "execution_count": 0,
      "outputs": []
    },
    {
      "cell_type": "code",
      "metadata": {
        "id": "vueyYrJHuIZY",
        "colab_type": "code",
        "colab": {}
      },
      "source": [
        "data"
      ],
      "execution_count": 0,
      "outputs": []
    },
    {
      "cell_type": "markdown",
      "metadata": {
        "id": "4f1KZcYtpa2H",
        "colab_type": "text"
      },
      "source": [
        "`Gráfico em Barra horizontal`"
      ]
    },
    {
      "cell_type": "code",
      "metadata": {
        "id": "nqWOxBFDuIcX",
        "colab_type": "code",
        "colab": {}
      },
      "source": [
        "data.plot.barh()"
      ],
      "execution_count": 0,
      "outputs": []
    },
    {
      "cell_type": "markdown",
      "metadata": {
        "id": "n1damx-Qpiol",
        "colab_type": "text"
      },
      "source": [
        "**ANÁLISE 6**"
      ]
    },
    {
      "cell_type": "markdown",
      "metadata": {
        "id": "WtAu_v3yydEO",
        "colab_type": "text"
      },
      "source": [
        "**Número de infrações cometidas com excesso de velocidade**"
      ]
    },
    {
      "cell_type": "markdown",
      "metadata": {
        "id": "qMgYh8vIy3u9",
        "colab_type": "text"
      },
      "source": [
        "`Tabela`"
      ]
    },
    {
      "cell_type": "code",
      "metadata": {
        "id": "MibT5d4GuIfZ",
        "colab_type": "code",
        "colab": {}
      },
      "source": [
        "data = df.descricaoinfracao.value_counts().filter(like='Transitar em velocidade superior à máxima')"
      ],
      "execution_count": 0,
      "outputs": []
    },
    {
      "cell_type": "code",
      "metadata": {
        "id": "VPeaYnqLrRcN",
        "colab_type": "code",
        "colab": {}
      },
      "source": [
        "data"
      ],
      "execution_count": 0,
      "outputs": []
    },
    {
      "cell_type": "markdown",
      "metadata": {
        "id": "CIkRGEX0y9F1",
        "colab_type": "text"
      },
      "source": [
        "`Gráfico em Pizza`"
      ]
    },
    {
      "cell_type": "code",
      "metadata": {
        "id": "gnlyCSlArX1y",
        "colab_type": "code",
        "colab": {}
      },
      "source": [
        "data.plot.pie()"
      ],
      "execution_count": 0,
      "outputs": []
    },
    {
      "cell_type": "markdown",
      "metadata": {
        "id": "fYGCeIJizBK_",
        "colab_type": "text"
      },
      "source": [
        "**ANÁLISE 7**"
      ]
    },
    {
      "cell_type": "markdown",
      "metadata": {
        "id": "8iRODDrnAkiH",
        "colab_type": "text"
      },
      "source": [
        "**Número de infrações cometidas ao dirigir usando Telefone Celular**"
      ]
    },
    {
      "cell_type": "markdown",
      "metadata": {
        "id": "mhcIft5yAtVJ",
        "colab_type": "text"
      },
      "source": [
        "`Tabela`"
      ]
    },
    {
      "cell_type": "code",
      "metadata": {
        "id": "1_3Y5_n0rXsN",
        "colab_type": "code",
        "colab": {}
      },
      "source": [
        "data = df.descricaoinfracao.value_counts().filter(like='celular')"
      ],
      "execution_count": 0,
      "outputs": []
    },
    {
      "cell_type": "code",
      "metadata": {
        "id": "NXE75cLwrXcq",
        "colab_type": "code",
        "colab": {}
      },
      "source": [
        "data"
      ],
      "execution_count": 0,
      "outputs": []
    },
    {
      "cell_type": "markdown",
      "metadata": {
        "id": "DpgPkLW3A31F",
        "colab_type": "text"
      },
      "source": [
        "`Gráfico em Barra horizontal`"
      ]
    },
    {
      "cell_type": "code",
      "metadata": {
        "id": "su0Mlz4X4f8M",
        "colab_type": "code",
        "colab": {}
      },
      "source": [
        "x = [len(df)]"
      ],
      "execution_count": 0,
      "outputs": []
    },
    {
      "cell_type": "code",
      "metadata": {
        "id": "lfZ3rCI040bY",
        "colab_type": "code",
        "colab": {}
      },
      "source": [
        "y = pd.DataFrame(data = x)\n"
      ],
      "execution_count": 0,
      "outputs": []
    },
    {
      "cell_type": "code",
      "metadata": {
        "id": "y8KOfEID5k5y",
        "colab_type": "code",
        "colab": {}
      },
      "source": [
        "compare = pd.concat([data,y])"
      ],
      "execution_count": 0,
      "outputs": []
    },
    {
      "cell_type": "code",
      "metadata": {
        "id": "pcxjP-B_45Tz",
        "colab_type": "code",
        "colab": {}
      },
      "source": [
        "compare.plot.barh()"
      ],
      "execution_count": 0,
      "outputs": []
    },
    {
      "cell_type": "markdown",
      "metadata": {
        "id": "Z79bMjakA98c",
        "colab_type": "text"
      },
      "source": [
        "**ANÁLISE 8**"
      ]
    },
    {
      "cell_type": "code",
      "metadata": {
        "id": "PZuzFV0j5DLG",
        "colab_type": "code",
        "colab": {}
      },
      "source": [
        ""
      ],
      "execution_count": 0,
      "outputs": []
    },
    {
      "cell_type": "code",
      "metadata": {
        "id": "mKFa9VSm5DFc",
        "colab_type": "code",
        "colab": {}
      },
      "source": [
        ""
      ],
      "execution_count": 0,
      "outputs": []
    }
  ]
}