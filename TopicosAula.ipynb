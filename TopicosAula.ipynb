{
  "nbformat": 4,
  "nbformat_minor": 0,
  "metadata": {
    "colab": {
      "name": "TopicosAula.ipynb",
      "version": "0.3.2",
      "provenance": [],
      "include_colab_link": true
    },
    "kernelspec": {
      "name": "python3",
      "display_name": "Python 3"
    }
  },
  "cells": [
    {
      "cell_type": "markdown",
      "metadata": {
        "id": "view-in-github",
        "colab_type": "text"
      },
      "source": [
        "<a href=\"https://colab.research.google.com/github/BrunoPereira1/Topicos-Integradores2/blob/master/TopicosAula.ipynb\" target=\"_parent\"><img src=\"https://colab.research.google.com/assets/colab-badge.svg\" alt=\"Open In Colab\"/></a>"
      ]
    },
    {
      "cell_type": "markdown",
      "metadata": {
        "id": "h6o19xY0M9qa",
        "colab_type": "text"
      },
      "source": [
        "**Questão 1**"
      ]
    },
    {
      "cell_type": "code",
      "metadata": {
        "colab_type": "code",
        "outputId": "9768fa3a-0195-4020-810e-7d455e96e292",
        "id": "f8awug3CIpSE",
        "colab": {
          "base_uri": "https://localhost:8080/",
          "height": 34
        }
      },
      "source": [
        "def Fatorial(a,b):\n",
        "  a = a*b\n",
        "  b = b-1\n",
        "  \n",
        "  if b <= 0:\n",
        "    print (a)\n",
        "  else:\n",
        "    Fatorial(a,b)\n",
        "    \n",
        "def main():\n",
        "  a = 6\n",
        "  b = a-1\n",
        "  \n",
        "  Fatorial(a,b)\n",
        "  \n",
        "main()"
      ],
      "execution_count": 34,
      "outputs": [
        {
          "output_type": "stream",
          "text": [
            "720\n"
          ],
          "name": "stdout"
        }
      ]
    },
    {
      "cell_type": "markdown",
      "metadata": {
        "id": "UQU6pyFlO1Nf",
        "colab_type": "text"
      },
      "source": [
        "**Questão 2**"
      ]
    },
    {
      "cell_type": "code",
      "metadata": {
        "id": "qDXkxheBI-lZ",
        "colab_type": "code",
        "colab": {
          "base_uri": "https://localhost:8080/",
          "height": 51
        },
        "outputId": "19d5af42-c7c7-431f-c998-5fb799a66bfb"
      },
      "source": [
        "n = int(input('Digite um valor:'))\n",
        "if n%2 == 0:\n",
        "    print('Par')\n",
        "else:\n",
        "    print('Impar')\n",
        "\n"
      ],
      "execution_count": 48,
      "outputs": [
        {
          "output_type": "stream",
          "text": [
            "Digite um valor:5\n",
            "Impar\n"
          ],
          "name": "stdout"
        }
      ]
    },
    {
      "cell_type": "markdown",
      "metadata": {
        "id": "SKYePT-HVzq0",
        "colab_type": "text"
      },
      "source": [
        "**Questão 3**"
      ]
    },
    {
      "cell_type": "code",
      "metadata": {
        "id": "4jLNCer5OAC7",
        "colab_type": "code",
        "colab": {
          "base_uri": "https://localhost:8080/",
          "height": 51
        },
        "outputId": "0976ab46-f3d7-4597-b31a-a7f1c4a4f4a9"
      },
      "source": [
        "n = int(input('Digite um número:'))\n",
        "i = 1\n",
        "t = 0\n",
        "  \n",
        "while t < n:\n",
        "    t = i*(i+1)*(i+2)\n",
        "    i += 1\n",
        "  \n",
        "if t == n:\n",
        "    print('%d é triangular' %n)\n",
        "else:\n",
        "    print('%d não é triangular'%n)"
      ],
      "execution_count": 52,
      "outputs": [
        {
          "output_type": "stream",
          "text": [
            "Digite um número:6\n",
            "6 é triangular\n"
          ],
          "name": "stdout"
        }
      ]
    },
    {
      "cell_type": "markdown",
      "metadata": {
        "id": "D1yNxk3Idfrh",
        "colab_type": "text"
      },
      "source": [
        "**Questão 4**"
      ]
    },
    {
      "cell_type": "code",
      "metadata": {
        "id": "bPZN8CTOSFBL",
        "colab_type": "code",
        "colab": {}
      },
      "source": [
        "def modaLista[1,2,2,4,1,2,5,6,5]"
      ],
      "execution_count": 0,
      "outputs": []
    }
  ]
}