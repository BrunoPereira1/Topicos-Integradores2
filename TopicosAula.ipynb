{
  "nbformat": 4,
  "nbformat_minor": 0,
  "metadata": {
    "colab": {
      "name": "TopicosAula.ipynb",
      "version": "0.3.2",
      "provenance": [],
      "include_colab_link": true
    },
    "kernelspec": {
      "name": "python3",
      "display_name": "Python 3"
    }
  },
  "cells": [
    {
      "cell_type": "markdown",
      "metadata": {
        "id": "view-in-github",
        "colab_type": "text"
      },
      "source": [
        "<a href=\"https://colab.research.google.com/github/BrunoPereira1/Topicos-Integradores2/blob/master/TopicosAula.ipynb\" target=\"_parent\"><img src=\"https://colab.research.google.com/assets/colab-badge.svg\" alt=\"Open In Colab\"/></a>"
      ]
    },
    {
      "cell_type": "markdown",
      "metadata": {
        "id": "h6o19xY0M9qa",
        "colab_type": "text"
      },
      "source": [
        "**Questão 1**"
      ]
    },
    {
      "cell_type": "code",
      "metadata": {
        "colab_type": "code",
        "id": "f8awug3CIpSE",
        "colab": {}
      },
      "source": [
        "def Fatorial(a,b):\n",
        "  a = a*b\n",
        "  b = b-1\n",
        "  \n",
        "  if b <= 0:\n",
        "    print (a)\n",
        "  else:\n",
        "    Fatorial(a,b)\n",
        "    \n",
        "def main():\n",
        "  a = 6\n",
        "  b = a-1\n",
        "  \n",
        "  Fatorial(a,b)\n",
        "  \n",
        "main()"
      ],
      "execution_count": 0,
      "outputs": []
    },
    {
      "cell_type": "markdown",
      "metadata": {
        "id": "UQU6pyFlO1Nf",
        "colab_type": "text"
      },
      "source": [
        "**Questão 2**"
      ]
    },
    {
      "cell_type": "code",
      "metadata": {
        "id": "qDXkxheBI-lZ",
        "colab_type": "code",
        "colab": {}
      },
      "source": [
        "n = int(input('Digite um valor:'))\n",
        "if n%2 == 0:\n",
        "    print('Par')\n",
        "else:\n",
        "    print('Impar')\n",
        "\n"
      ],
      "execution_count": 0,
      "outputs": []
    },
    {
      "cell_type": "markdown",
      "metadata": {
        "id": "SKYePT-HVzq0",
        "colab_type": "text"
      },
      "source": [
        "**Questão 3**"
      ]
    },
    {
      "cell_type": "code",
      "metadata": {
        "id": "4jLNCer5OAC7",
        "colab_type": "code",
        "colab": {}
      },
      "source": [
        "n = int(input('Digite um número:'))\n",
        "i = 1\n",
        "t = 0\n",
        "  \n",
        "while t < n:\n",
        "    t = i*(i+1)*(i+2)\n",
        "    i += 1\n",
        "  \n",
        "if t == n:\n",
        "    print('%d é triangular' %n)\n",
        "else:\n",
        "    print('%d não é triangular'%n)"
      ],
      "execution_count": 0,
      "outputs": []
    },
    {
      "cell_type": "markdown",
      "metadata": {
        "id": "D1yNxk3Idfrh",
        "colab_type": "text"
      },
      "source": [
        "**Questão 4**"
      ]
    },
    {
      "cell_type": "code",
      "metadata": {
        "id": "bPZN8CTOSFBL",
        "colab_type": "code",
        "colab": {}
      },
      "source": [
        "def listaModa(lista):\n",
        "  cont = 0\n",
        "  moda = 0\n",
        "  sorted(lista)\n",
        "  for i in range (0,len(lista)-1):\n",
        "    if lista[i] == lista[i+1]:\n",
        "      cont = cont + 1\n",
        "      moda = lista[1]\n",
        "    else:\n",
        "      cont = 0\n",
        "  print (moda)\n",
        "\n",
        "def main():\n",
        "  lista = [1,2,2,4,1,2,5,6,5]\n",
        "  listaModa(lista)\n",
        "main()"
      ],
      "execution_count": 0,
      "outputs": []
    }
  ]
}